{
 "cells": [
  {
   "cell_type": "code",
   "execution_count": 1,
   "metadata": {},
   "outputs": [],
   "source": [
    "import tweepy\n",
    "from openpyxl import load_workbook, Workbook"
   ]
  },
  {
   "cell_type": "markdown",
   "metadata": {},
   "source": [
    "### Part 1\n",
    "Collect the tweets"
   ]
  },
  {
   "cell_type": "code",
   "execution_count": 2,
   "metadata": {},
   "outputs": [],
   "source": [
    "from auth import consumer_key, consumer_secret"
   ]
  },
  {
   "cell_type": "code",
   "execution_count": 3,
   "metadata": {},
   "outputs": [],
   "source": [
    "auth = tweepy.AppAuthHandler(consumer_key, consumer_secret)"
   ]
  },
  {
   "cell_type": "code",
   "execution_count": 4,
   "metadata": {},
   "outputs": [],
   "source": [
    "api = tweepy.API(auth)"
   ]
  },
  {
   "cell_type": "code",
   "execution_count": 5,
   "metadata": {},
   "outputs": [],
   "source": [
    "def limit_handled(cursor):\n",
    "    while True:\n",
    "        try:\n",
    "            yield cursor.next()\n",
    "        except tweepy.RateLimitError:\n",
    "            time.sleep(15 * 60)"
   ]
  },
  {
   "cell_type": "code",
   "execution_count": 6,
   "metadata": {},
   "outputs": [],
   "source": [
    "tweet_text = set()"
   ]
  },
  {
   "cell_type": "code",
   "execution_count": 7,
   "metadata": {},
   "outputs": [
    {
     "name": "stderr",
     "output_type": "stream",
     "text": [
      "C:\\ProgramData\\Anaconda3\\lib\\site-packages\\ipykernel_launcher.py:2: DeprecationWarning: generator 'limit_handled' raised StopIteration\n",
      "  \n"
     ]
    }
   ],
   "source": [
    "for status in limit_handled(\n",
    "    tweepy.Cursor(api.search, tweet_mode=\"extended\", q='vaccine OR vaccination -filter:retweets', count=10, lang='en').items(5)):\n",
    "        try:\n",
    "            tweet_text.add(status.full_text)\n",
    "        except AttributeError:\n",
    "            tweet_text.add(status.text)\n",
    "            print(\"TEXT ONLY\")"
   ]
  },
  {
   "cell_type": "markdown",
   "metadata": {},
   "source": [
    "### Part 2\n",
    "Save the tweets"
   ]
  },
  {
   "cell_type": "code",
   "execution_count": 8,
   "metadata": {},
   "outputs": [],
   "source": [
    "loc = './tweets.xlsx'"
   ]
  },
  {
   "cell_type": "code",
   "execution_count": 9,
   "metadata": {},
   "outputs": [],
   "source": [
    "try:\n",
    "    wb = load_workbook(loc)\n",
    "    ws = wb.active\n",
    "except FileNotFoundError:\n",
    "    wb = Workbook()\n",
    "    ws = wb.active\n",
    "    ws['A1'] = \"Tweets\"\n",
    "    ws['B1'] = \"Relevant\"\n",
    "    ws['C1'] = 'Positive'\n",
    "    ws['D1'] = 'Negative'\n",
    "    ws['E1'] = 'Neutral'"
   ]
  },
  {
   "cell_type": "code",
   "execution_count": 10,
   "metadata": {},
   "outputs": [],
   "source": [
    "saved_text = set()"
   ]
  },
  {
   "cell_type": "code",
   "execution_count": 11,
   "metadata": {},
   "outputs": [],
   "source": [
    "for row in ws.iter_rows(min_row=2, max_col=1, max_row=ws.max_row):\n",
    "    for cell in row:\n",
    "        saved_text.add(cell.value)"
   ]
  },
  {
   "cell_type": "code",
   "execution_count": 12,
   "metadata": {},
   "outputs": [],
   "source": [
    "new_text = set.difference(tweet_text, saved_text)"
   ]
  },
  {
   "cell_type": "code",
   "execution_count": 13,
   "metadata": {},
   "outputs": [],
   "source": [
    "rows = ws.max_row + 1\n",
    "for item, text in enumerate(new_text):\n",
    "    ws.cell(row=item+rows, column=1, value=text)"
   ]
  },
  {
   "cell_type": "code",
   "execution_count": 14,
   "metadata": {},
   "outputs": [],
   "source": [
    "wb.save(loc)\n",
    "wb.close()"
   ]
  },
  {
   "cell_type": "code",
   "execution_count": null,
   "metadata": {},
   "outputs": [],
   "source": []
  },
  {
   "cell_type": "markdown",
   "metadata": {},
   "source": [
    "### References\n",
    "Official:   https://developer.twitter.com/en/docs/tweets/search/guides/standard-operators\n",
    "\n",
    "Tweepy:     http://docs.tweepy.org/en/latest/api.html#help-methods\n",
    "\n",
    "xlsxwriter: https://xlsxwriter.readthedocs.io/workbook.html\n",
    "\n",
    "xlrd:       https://www.geeksforgeeks.org/reading-excel-file-using-python/\n",
    "\n",
    "###### Recommended approach for writing in Excel\n",
    "openpyxl:   https://openpyxl.readthedocs.io/en/stable/tutorial.html\n",
    "            "
   ]
  },
  {
   "cell_type": "code",
   "execution_count": null,
   "metadata": {},
   "outputs": [],
   "source": []
  }
 ],
 "metadata": {
  "kernelspec": {
   "display_name": "Python 3",
   "language": "python",
   "name": "python3"
  },
  "language_info": {
   "codemirror_mode": {
    "name": "ipython",
    "version": 3
   },
   "file_extension": ".py",
   "mimetype": "text/x-python",
   "name": "python",
   "nbconvert_exporter": "python",
   "pygments_lexer": "ipython3",
   "version": "3.6.5"
  }
 },
 "nbformat": 4,
 "nbformat_minor": 2
}
