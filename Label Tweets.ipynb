{
 "cells": [
  {
   "cell_type": "code",
   "execution_count": 2,
   "metadata": {},
   "outputs": [],
   "source": [
    "import numpy as np\n",
    "import pandas as pd"
   ]
  },
  {
   "cell_type": "code",
   "execution_count": 3,
   "metadata": {},
   "outputs": [],
   "source": [
    "loc = './tweets.xlsx'"
   ]
  },
  {
   "cell_type": "markdown",
   "metadata": {},
   "source": [
    "# Criteria\n",
    "* Positive: Pro-Vaccine. When the person is looking forward to the vaccine\n",
    "        i literally cannot wait stand in line for my COVID vaccine\n",
    "* Negative: Anti-Vaccine. The person does not believe in vaccines and think it is a get rich scheme by the sudo government bla bla bla\n",
    "        @JoeBiden Tell that to Bill Gates and his depopulation scheme and his vaccine.\n",
    "* Neutral:  Ambigious tweets come here\n",
    "        @leahmcelrath Where’d all the research go after Trump disbanded the Pandemic Task Force and why did Trump go to WR in Nov? @PodcastRani, care to share what you know about early vaccine trials?"
   ]
  },
  {
   "cell_type": "code",
   "execution_count": 4,
   "metadata": {},
   "outputs": [
    {
     "name": "stdout",
     "output_type": "stream",
     "text": [
      "Positive: i literally cannot wait stand in line for my COVID vaccine\n",
      "Negative: @JoeBiden Tell that to Bill Gates and his depopulation scheme and his vaccine.\n",
      "Neutral: @leahmcelrath Where’d all the research go after Trump disbanded the Pandemic Task Force and why did Trump go to WR in Nov? @PodcastRani, care to share what you know about early vaccine trials?\n"
     ]
    }
   ],
   "source": [
    "df = pd.read_excel('./tweets.xlsx', sheet_name='Sheet1')\n",
    "\n",
    "print(\"Positive:\", df.loc[0, \"Tweets\"])\n",
    "print(\"Negative:\", df.loc[30, \"Tweets\"])\n",
    "print(\"Neutral:\", df.loc[5, \"Tweets\"])"
   ]
  },
  {
   "cell_type": "code",
   "execution_count": 5,
   "metadata": {},
   "outputs": [],
   "source": [
    "def textLabeler(loc='./tweets.xlsx', start=0):\n",
    "    try:\n",
    "        df = pd.read_excel(loc, sheet_name='Sheet1')\n",
    "    except FileNotFoundError:\n",
    "        print(\"EXCEL FILE NOT FOUND\")\n",
    "        return\n",
    "    if not start:\n",
    "        start = labeled_till = (np.where(np.isnan(df['Negative']))[0][0])\n",
    "    print(start)\n",
    "    a = \"\"\n",
    "    while(a != 'q'):\n",
    "        print(df['Tweets'][start])\n",
    "        a = input()\n",
    "        if(a == 'p'):\n",
    "            df.loc[start, 'Positive'] = 1\n",
    "            df.loc[start, 'Negative'] = 0\n",
    "            df.loc[start, 'Neutral']  = 0\n",
    "        elif(a == 'n'):\n",
    "            df.loc[start, 'Positive'] = 0\n",
    "            df.loc[start, 'Negative'] = 1\n",
    "            df.loc[start, 'Neutral']  = 0\n",
    "        elif(a == 't'):\n",
    "            df.loc[start, 'Positive'] = 0\n",
    "            df.loc[start, 'Negative'] = 0\n",
    "            df.loc[start, 'Neutral']  = 1\n",
    "        else:\n",
    "            start -= 1\n",
    "        \n",
    "        start += 1\n",
    "    print(\"Labelled to: \", start)\n",
    "    df.to_excel(loc)\n",
    "    print(df[:start+10])"
   ]
  },
  {
   "cell_type": "code",
   "execution_count": 6,
   "metadata": {},
   "outputs": [
    {
     "name": "stdout",
     "output_type": "stream",
     "text": [
      "341\n",
      "A Coronavirus Vaccine Could Be the First That Outwits Nature https://t.co/VDjz3sQTu2 via @singularityhub\n",
      "p\n",
      "@Cheshirepixie @Ravex24 @SuperCaity So if it’s either or, why’re you issuing as an argument on not getting a vaccination\n",
      "q\n",
      "Labelled to:  342\n",
      "                                                Tweets  Positive  Negative  \\\n",
      "0    i literally cannot wait stand in line for my C...       1.0       0.0   \n",
      "1    @BiomimicAlexis @WashPostPR @JoelAchenbach “Go...       1.0       0.0   \n",
      "2    China has successfully created a Vaccine for t...       1.0       0.0   \n",
      "3    Just My Vaccination #InfectiousSongsOrBands @H...       0.0       0.0   \n",
      "4    @NYGovCuomo Actually there is number on humans...       0.0       0.0   \n",
      "5    @leahmcelrath Where’d all the research go afte...       0.0       0.0   \n",
      "6    @AndrewYang A cure and/or a vaccine is the onl...       1.0       0.0   \n",
      "7    “ Experts caution that a vaccine is still 18-2...       1.0       0.0   \n",
      "8    1: Approve #hydrochloroquine and #remdesvir as...       1.0       0.0   \n",
      "9    Y’all don’t know this brotha, but now you do. ...       0.0       0.0   \n",
      "10   @JustinWelby Where's your god now? All you're ...       1.0       0.0   \n",
      "11   Let's see..Bill Gates decides to exit Microsof...       0.0       0.0   \n",
      "12   18-24 months until a vaccine?\\n\\nI could stay ...       1.0       0.0   \n",
      "13   @prettyrickyroo All of these hot takes about t...       1.0       0.0   \n",
      "14   @josephmjamison @ColleenBrandt Why not look at...       1.0       0.0   \n",
      "15   The coronavirus isn’t mutating quickly, sugges...       1.0       0.0   \n",
      "16        @BillOReilly Watch out for the \"vaccine\"!!!!       0.0       0.0   \n",
      "17   @kathrynacullen Makes sense, just like the flu...       0.0       1.0   \n",
      "18   @WashPostPR @TaraPathak2018 @JoelAchenbach 12-...       1.0       0.0   \n",
      "19   A glimmer of long-term good news: Some viruses...       1.0       0.0   \n",
      "20   Me hitting the test labs to find this vaccine ...       1.0       0.0   \n",
      "21   Can we all just invent a sleep medicine for 30...       1.0       0.0   \n",
      "22   @1henryw It still depends if we develop immuni...       1.0       0.0   \n",
      "23   As you read the Word, the voice of My spirit w...       0.0       0.0   \n",
      "24   Some good news on the #COVID19 front: mutation...       1.0       0.0   \n",
      "25   There should be an international law which ena...       0.0       0.0   \n",
      "26   @RadioFreeTom Real epidemiologists are saying ...       1.0       0.0   \n",
      "27   Ride the vaccine #InfectiousSongsOrBands https...       0.0       0.0   \n",
      "28                   @YG__UNO They have a vaccine ahy?       0.0       0.0   \n",
      "29   @catturd2 We had a vaccine to it 4 months afte...       0.0       1.0   \n",
      "..                                                 ...       ...       ...   \n",
      "322  @love4thegameAK @1FreeInhabitant @realDonaldTr...       0.0       1.0   \n",
      "323  Can a century-old TB vaccine steel the immune ...       1.0       0.0   \n",
      "324  @KS_Longer @ProudResister @jzdanowski11 2./ or...       1.0       0.0   \n",
      "325  @katzfan71 Good lord. It’s a shame he went too...       0.0       0.0   \n",
      "326  @TobinBen @GovAndyBeshear Let’s prioritize per...       1.0       0.0   \n",
      "327  A vaccine being created is just step 1\\nIt has...       1.0       0.0   \n",
      "328  @Gmoney_303 @brithume @PrivilegedVictm Your st...       1.0       0.0   \n",
      "329  @DonaldJTrumpJr Aaand, refuse any conditional ...       0.0       0.0   \n",
      "330  @9NewsMelb Great work! Fight China for the rig...       0.0       0.0   \n",
      "331                   @IsobelCarr No vaccine for that.       1.0       0.0   \n",
      "332  @tessgerritsen @ScottGottliebMD @TrueFactsStat...       1.0       0.0   \n",
      "333  @krinhoh @theSopranoist Kinda like measles par...       1.0       0.0   \n",
      "334  Mirror Online: Coronavirus: Top ways to protec...       1.0       0.0   \n",
      "335  @JustinLawGuy @Unlearned_Hand The flu changes ...       1.0       0.0   \n",
      "336  @Thatvideokidd nah but i think you might have ...       1.0       0.0   \n",
      "337  The worst thing is that while we fight to find...       1.0       0.0   \n",
      "338  @timbray actually worse than that.  They count...       1.0       0.0   \n",
      "339  @DonaldJTrumpJr says the DUMBEST drumpf son🤦🏾‍...       1.0       0.0   \n",
      "340  @JoeBiden You have no idea how hard Americans ...       1.0       0.0   \n",
      "341  A Coronavirus Vaccine Could Be the First That ...       1.0       0.0   \n",
      "342  @Cheshirepixie @Ravex24 @SuperCaity So if it’s...       NaN       NaN   \n",
      "343  Hong Kong’s flu season ended a month earlier t...       NaN       NaN   \n",
      "344  We Are Being Played https://t.co/SdRvOJLmMz vi...       NaN       NaN   \n",
      "345  @drsanjaygupta I’m sure you have already answe...       NaN       NaN   \n",
      "346  @joshtpm For those not in KY or up on KY polit...       NaN       NaN   \n",
      "347  @JoeySalads @JoeBiden Maybe just for the ones ...       NaN       NaN   \n",
      "348  He has fight that is for sure but the debate i...       NaN       NaN   \n",
      "349  Why is China one of the front runners? Should ...       NaN       NaN   \n",
      "350  @medicalaxioms Thanks for this post. Husbands ...       NaN       NaN   \n",
      "351  @SheepDuster @xileenie Rod, the fact that a va...       NaN       NaN   \n",
      "\n",
      "     Neutral  \n",
      "0        0.0  \n",
      "1        0.0  \n",
      "2        0.0  \n",
      "3        1.0  \n",
      "4        1.0  \n",
      "5        1.0  \n",
      "6        0.0  \n",
      "7        0.0  \n",
      "8        0.0  \n",
      "9        1.0  \n",
      "10       0.0  \n",
      "11       1.0  \n",
      "12       0.0  \n",
      "13       0.0  \n",
      "14       0.0  \n",
      "15       0.0  \n",
      "16       1.0  \n",
      "17       0.0  \n",
      "18       0.0  \n",
      "19       0.0  \n",
      "20       0.0  \n",
      "21       0.0  \n",
      "22       0.0  \n",
      "23       1.0  \n",
      "24       0.0  \n",
      "25       1.0  \n",
      "26       0.0  \n",
      "27       1.0  \n",
      "28       1.0  \n",
      "29       0.0  \n",
      "..       ...  \n",
      "322      0.0  \n",
      "323      0.0  \n",
      "324      0.0  \n",
      "325      1.0  \n",
      "326      0.0  \n",
      "327      0.0  \n",
      "328      0.0  \n",
      "329      1.0  \n",
      "330      1.0  \n",
      "331      0.0  \n",
      "332      0.0  \n",
      "333      0.0  \n",
      "334      0.0  \n",
      "335      0.0  \n",
      "336      0.0  \n",
      "337      0.0  \n",
      "338      0.0  \n",
      "339      0.0  \n",
      "340      0.0  \n",
      "341      0.0  \n",
      "342      NaN  \n",
      "343      NaN  \n",
      "344      NaN  \n",
      "345      NaN  \n",
      "346      NaN  \n",
      "347      NaN  \n",
      "348      NaN  \n",
      "349      NaN  \n",
      "350      NaN  \n",
      "351      NaN  \n",
      "\n",
      "[352 rows x 4 columns]\n"
     ]
    }
   ],
   "source": [
    "textLabeler()"
   ]
  },
  {
   "cell_type": "markdown",
   "metadata": {},
   "source": [
    "+ consipracy examples: 30, 39, 156, 191\n",
    "+ ambigious exaples:   23, 36, 180"
   ]
  },
  {
   "cell_type": "markdown",
   "metadata": {},
   "source": [
    "deal with #tags and &amp or maybe leave it\n",
    "w/out "
   ]
  },
  {
   "cell_type": "code",
   "execution_count": null,
   "metadata": {},
   "outputs": [],
   "source": []
  }
 ],
 "metadata": {
  "kernelspec": {
   "display_name": "Python 3",
   "language": "python",
   "name": "python3"
  },
  "language_info": {
   "codemirror_mode": {
    "name": "ipython",
    "version": 3
   },
   "file_extension": ".py",
   "mimetype": "text/x-python",
   "name": "python",
   "nbconvert_exporter": "python",
   "pygments_lexer": "ipython3",
   "version": "3.6.5"
  }
 },
 "nbformat": 4,
 "nbformat_minor": 2
}
