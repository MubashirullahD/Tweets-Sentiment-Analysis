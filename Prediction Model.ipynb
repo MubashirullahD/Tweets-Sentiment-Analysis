{
 "cells": [
  {
   "cell_type": "markdown",
   "metadata": {},
   "source": [
    "# Sentiment Analysis of Tweets related to Vaccine\n",
    "Sentiment Analysis: The process of computationally identifying and categorising opinions expressed in a piece of text, especially in order to determine whether the writer's attitude towards a particular topic, product, etc. is positive, negative, or neutral (Lexico Dictionary, Oxford University Press)"
   ]
  },
  {
   "cell_type": "code",
   "execution_count": 1,
   "metadata": {},
   "outputs": [],
   "source": [
    "import numpy as np\n",
    "import pandas as pd\n",
    "import matplotlib.pyplot as plt\n",
    "from emoji import demojize\n",
    "from itertools import chain\n",
    "from collections import Counter\n",
    "from nltk.stem import PorterStemmer\n",
    "from composition import to_replace"
   ]
  },
  {
   "cell_type": "code",
   "execution_count": 2,
   "metadata": {},
   "outputs": [],
   "source": [
    "from sklearn.model_selection import train_test_split\n",
    "from sklearn.model_selection import GridSearchCV\n",
    "\n",
    "from sklearn.metrics import confusion_matrix \n",
    "from sklearn.metrics import accuracy_score \n",
    "from sklearn.metrics import classification_report\n",
    "\n",
    "from sklearn.neighbors import KNeighborsClassifier\n",
    "from sklearn.feature_extraction.text import CountVectorizer\n",
    "from sklearn.naive_bayes import MultinomialNB\n",
    "from sklearn.naive_bayes import GaussianNB\n",
    "from sklearn.svm import LinearSVC\n",
    "from sklearn.svm import SVC"
   ]
  },
  {
   "cell_type": "markdown",
   "metadata": {},
   "source": [
    "# Part 1\n",
    "## Collect the tweets"
   ]
  },
  {
   "cell_type": "code",
   "execution_count": 3,
   "metadata": {},
   "outputs": [],
   "source": [
    "loc = './tweets.xlsx'\n",
    "#loc = './old_tweets.xlsx'"
   ]
  },
  {
   "cell_type": "code",
   "execution_count": 4,
   "metadata": {},
   "outputs": [],
   "source": [
    "try:\n",
    "    df = pd.read_excel(loc, sheet_name='Sheet1')\n",
    "except FileNotFoundError:\n",
    "    print(\"EXCEL FILE NOT FOUND\")"
   ]
  },
  {
   "cell_type": "code",
   "execution_count": 5,
   "metadata": {},
   "outputs": [
    {
     "name": "stdout",
     "output_type": "stream",
     "text": [
      "Column headings:\n",
      "Index(['Tweets', 'Positive', 'Negative', 'Neutral'], dtype='object')\n"
     ]
    }
   ],
   "source": [
    "print(\"Column headings:\")\n",
    "print(df.columns)"
   ]
  },
  {
   "cell_type": "code",
   "execution_count": 6,
   "metadata": {},
   "outputs": [
    {
     "data": {
      "text/html": [
       "<div>\n",
       "<style scoped>\n",
       "    .dataframe tbody tr th:only-of-type {\n",
       "        vertical-align: middle;\n",
       "    }\n",
       "\n",
       "    .dataframe tbody tr th {\n",
       "        vertical-align: top;\n",
       "    }\n",
       "\n",
       "    .dataframe thead th {\n",
       "        text-align: right;\n",
       "    }\n",
       "</style>\n",
       "<table border=\"1\" class=\"dataframe\">\n",
       "  <thead>\n",
       "    <tr style=\"text-align: right;\">\n",
       "      <th></th>\n",
       "      <th>Tweets</th>\n",
       "      <th>Positive</th>\n",
       "      <th>Negative</th>\n",
       "      <th>Neutral</th>\n",
       "    </tr>\n",
       "  </thead>\n",
       "  <tbody>\n",
       "    <tr>\n",
       "      <th>0</th>\n",
       "      <td>i literally cannot wait stand in line for my C...</td>\n",
       "      <td>1.0</td>\n",
       "      <td>0.0</td>\n",
       "      <td>0.0</td>\n",
       "    </tr>\n",
       "    <tr>\n",
       "      <th>1</th>\n",
       "      <td>@BiomimicAlexis @WashPostPR @JoelAchenbach “Go...</td>\n",
       "      <td>1.0</td>\n",
       "      <td>0.0</td>\n",
       "      <td>0.0</td>\n",
       "    </tr>\n",
       "    <tr>\n",
       "      <th>2</th>\n",
       "      <td>China has successfully created a Vaccine for t...</td>\n",
       "      <td>1.0</td>\n",
       "      <td>0.0</td>\n",
       "      <td>0.0</td>\n",
       "    </tr>\n",
       "    <tr>\n",
       "      <th>3</th>\n",
       "      <td>Just My Vaccination #InfectiousSongsOrBands @H...</td>\n",
       "      <td>0.0</td>\n",
       "      <td>0.0</td>\n",
       "      <td>1.0</td>\n",
       "    </tr>\n",
       "    <tr>\n",
       "      <th>4</th>\n",
       "      <td>@NYGovCuomo Actually there is number on humans...</td>\n",
       "      <td>0.0</td>\n",
       "      <td>0.0</td>\n",
       "      <td>1.0</td>\n",
       "    </tr>\n",
       "  </tbody>\n",
       "</table>\n",
       "</div>"
      ],
      "text/plain": [
       "                                              Tweets  Positive  Negative  \\\n",
       "0  i literally cannot wait stand in line for my C...       1.0       0.0   \n",
       "1  @BiomimicAlexis @WashPostPR @JoelAchenbach “Go...       1.0       0.0   \n",
       "2  China has successfully created a Vaccine for t...       1.0       0.0   \n",
       "3  Just My Vaccination #InfectiousSongsOrBands @H...       0.0       0.0   \n",
       "4  @NYGovCuomo Actually there is number on humans...       0.0       0.0   \n",
       "\n",
       "   Neutral  \n",
       "0      0.0  \n",
       "1      0.0  \n",
       "2      0.0  \n",
       "3      1.0  \n",
       "4      1.0  "
      ]
     },
     "execution_count": 6,
     "metadata": {},
     "output_type": "execute_result"
    }
   ],
   "source": [
    "df.head()"
   ]
  },
  {
   "cell_type": "code",
   "execution_count": 7,
   "metadata": {},
   "outputs": [
    {
     "name": "stdout",
     "output_type": "stream",
     "text": [
      "342\n"
     ]
    }
   ],
   "source": [
    "# Given all the tweets were not labeled, we only pick till they are\n",
    "labeled_till = (np.where(np.isnan(df['Negative']))[0][0] - 1)\n",
    "print(labeled_till+1)"
   ]
  },
  {
   "cell_type": "code",
   "execution_count": 8,
   "metadata": {},
   "outputs": [],
   "source": [
    "df = df.loc[0:labeled_till, :]\n",
    "\n",
    "Tweets   = df[\"Tweets\"]\n",
    "Positive = df[\"Positive\"]\n",
    "Negative = df[\"Negative\"]\n",
    "Neutral  = df[\"Neutral\"]"
   ]
  },
  {
   "cell_type": "code",
   "execution_count": 9,
   "metadata": {},
   "outputs": [
    {
     "name": "stdout",
     "output_type": "stream",
     "text": [
      "Negative 43.0\n",
      "Positive 195.0\n",
      "Neutral  104.0\n"
     ]
    },
    {
     "data": {
      "text/plain": [
       "342.0"
      ]
     },
     "execution_count": 9,
     "metadata": {},
     "output_type": "execute_result"
    }
   ],
   "source": [
    "print(\"Negative\" , Negative.values.sum())\n",
    "print(\"Positive\" , Positive.values.sum())\n",
    "print(\"Neutral \" , Neutral.values.sum())\n",
    "Negative.values.sum() + Positive.values.sum() + Neutral.values.sum()"
   ]
  },
  {
   "cell_type": "markdown",
   "metadata": {},
   "source": [
    "# Part 2 \n",
    "## Preprocessing\n"
   ]
  },
  {
   "cell_type": "code",
   "execution_count": 10,
   "metadata": {},
   "outputs": [],
   "source": [
    "def processTweet(tweets):\n",
    "    \"\"\"\n",
    "    Expects tweets to be a pandas series\n",
    "    • Lower-casing\n",
    "\n",
    "    • Normalizing URLs\n",
    "\n",
    "    • Normalizing Tags and email addresses\n",
    "\n",
    "    • Normalizing Numbers\n",
    "\n",
    "    • Normalizing Dollars\n",
    "\n",
    "    • Word Stemming\n",
    "    \n",
    "    • Normalize punctuation \n",
    "    \n",
    "    • Expand Contractions \n",
    "    \n",
    "    • Demojize\n",
    "    \n",
    "    • Remove punctuation\n",
    "    \n",
    "    (#TODO) Other ideas\n",
    "    • Negation. Optimization concept.\n",
    "    • Removal of stop-words and alphanumberic\n",
    "    \"\"\"\n",
    "    \n",
    "    # Lower case text\n",
    "    tweets = tweets.str.lower()\n",
    "    \n",
    "    # HTML tags\n",
    "    tweets = tweets.str.replace(r\"<[^<>]+>\", \" \")\n",
    "\n",
    "    # Account Tag @theFakeDonalDTrump \n",
    "    tweets = tweets.str.replace(r\"@[^\\s]+\", 'idaddr')\n",
    "    \n",
    "    # Email address\n",
    "    tweets = tweets.str.replace(r\"[^\\s]+@[^\\s]+\", 'emailaddr')\n",
    "    \n",
    "    # Handle URLS\n",
    "    # Look for strings starting with http:// or https://\n",
    "    tweets = tweets.str.replace(r\"(http|https)://[^\\s]*\", 'httpaddr')\n",
    "    \n",
    "    # Handle Numbers\n",
    "    # Look for one or more characters between 0-9\n",
    "    tweets = tweets.str.replace(r\"[0-9]+\", 'number')\n",
    "    \n",
    "    # Handle $ sign\n",
    "    tweets = tweets.str.replace(r\"[$]+\", 'dollar')\n",
    "    \n",
    "    # Normalize punctuation\n",
    "    transl_table = dict( [ (ord(x), ord(y)) for x,y in zip( u\"‘’´“”–-\",  u\"'''\\\"\\\"--\") ] ) \n",
    "    tweets = tweets.apply(lambda a: a.translate(transl_table))\n",
    "    \n",
    "    # Expand Contractions\n",
    "    tweets = tweets.apply(lambda string: \" \".join([to_replace[i] if i in to_replace.keys() else i for i in string.split()]))\n",
    "    \n",
    "    # Demojize text\n",
    "    tweets = tweets.apply(demojize)\n",
    "    \n",
    "    # Handle punctuation\n",
    "    tweets = tweets.str.replace(r\"[^\\w]+\", ' ')\n",
    "    \n",
    "    # Stem\n",
    "    stemmer = PorterStemmer()\n",
    "    tweets  = tweets.apply(lambda a: list(map(stemmer.stem,a.split())))\n",
    "    \n",
    "    return tweets"
   ]
  },
  {
   "cell_type": "code",
   "execution_count": 11,
   "metadata": {},
   "outputs": [],
   "source": [
    "tweets = processTweet(Tweets)"
   ]
  },
  {
   "cell_type": "code",
   "execution_count": 12,
   "metadata": {},
   "outputs": [],
   "source": [
    "target   = df.drop('Tweets', axis = 1)\n",
    "\n",
    "#Reverse one-hot notation  \n",
    "\n",
    "target   = target.multiply([1,2,3]).values\n",
    "target   = np.concatenate(target)\n",
    "target   = target[target!= 0]"
   ]
  },
  {
   "cell_type": "code",
   "execution_count": 13,
   "metadata": {},
   "outputs": [],
   "source": [
    "X_trainO, X_testO, y_train, y_test = train_test_split(tweets, target, test_size = 0.3, random_state = 42,\n",
    "                                                    stratify = target)                                     "
   ]
  },
  {
   "cell_type": "markdown",
   "metadata": {},
   "source": [
    "# Part 3\n",
    "## Make Feature Vector\n",
    "Using the corpus, most common words are used to make a feature vector\n",
    "Each tweet is then converted into a feature vector\n",
    "\n",
    "\n",
    "###### Concatinating strings in series"
   ]
  },
  {
   "cell_type": "code",
   "execution_count": 14,
   "metadata": {},
   "outputs": [],
   "source": [
    "allWords = chain.from_iterable(X_trainO) #tweets"
   ]
  },
  {
   "cell_type": "code",
   "execution_count": 15,
   "metadata": {},
   "outputs": [],
   "source": [
    "words = Counter(allWords)"
   ]
  },
  {
   "cell_type": "code",
   "execution_count": 43,
   "metadata": {},
   "outputs": [
    {
     "data": {
      "text/plain": [
       "[('idaddr', 334),\n",
       " ('the', 280),\n",
       " ('vaccin', 266),\n",
       " ('a', 229),\n",
       " ('is', 194),\n",
       " ('to', 169),\n",
       " ('it', 112),\n",
       " ('not', 101),\n",
       " ('and', 100),\n",
       " ('httpaddr', 98),\n",
       " ('number', 96),\n",
       " ('of', 96),\n",
       " ('for', 93),\n",
       " ('that', 81),\n",
       " ('in', 76),\n",
       " ('we', 72),\n",
       " ('you', 71),\n",
       " ('thi', 66),\n",
       " ('be', 65),\n",
       " ('are', 60)]"
      ]
     },
     "execution_count": 43,
     "metadata": {},
     "output_type": "execute_result"
    }
   ],
   "source": [
    "words.most_common(20) #Chec"
   ]
  },
  {
   "cell_type": "code",
   "execution_count": 17,
   "metadata": {},
   "outputs": [],
   "source": [
    "feature_vector = pd.Series(sorted(words, key=words.get, reverse=True)[:200])"
   ]
  },
  {
   "cell_type": "code",
   "execution_count": 18,
   "metadata": {},
   "outputs": [],
   "source": [
    "X_train = X_trainO.apply(lambda tweet: feature_vector.isin((tweet)))\n",
    "X_test  = X_testO.apply(lambda tweet: feature_vector.isin((tweet)))"
   ]
  },
  {
   "cell_type": "code",
   "execution_count": 19,
   "metadata": {},
   "outputs": [
    {
     "data": {
      "text/html": [
       "<div>\n",
       "<style scoped>\n",
       "    .dataframe tbody tr th:only-of-type {\n",
       "        vertical-align: middle;\n",
       "    }\n",
       "\n",
       "    .dataframe tbody tr th {\n",
       "        vertical-align: top;\n",
       "    }\n",
       "\n",
       "    .dataframe thead th {\n",
       "        text-align: right;\n",
       "    }\n",
       "</style>\n",
       "<table border=\"1\" class=\"dataframe\">\n",
       "  <thead>\n",
       "    <tr style=\"text-align: right;\">\n",
       "      <th></th>\n",
       "      <th>0</th>\n",
       "      <th>1</th>\n",
       "      <th>2</th>\n",
       "      <th>3</th>\n",
       "      <th>4</th>\n",
       "      <th>5</th>\n",
       "      <th>6</th>\n",
       "      <th>7</th>\n",
       "      <th>8</th>\n",
       "      <th>9</th>\n",
       "      <th>...</th>\n",
       "      <th>190</th>\n",
       "      <th>191</th>\n",
       "      <th>192</th>\n",
       "      <th>193</th>\n",
       "      <th>194</th>\n",
       "      <th>195</th>\n",
       "      <th>196</th>\n",
       "      <th>197</th>\n",
       "      <th>198</th>\n",
       "      <th>199</th>\n",
       "    </tr>\n",
       "  </thead>\n",
       "  <tbody>\n",
       "    <tr>\n",
       "      <th>39</th>\n",
       "      <td>False</td>\n",
       "      <td>False</td>\n",
       "      <td>True</td>\n",
       "      <td>True</td>\n",
       "      <td>False</td>\n",
       "      <td>False</td>\n",
       "      <td>True</td>\n",
       "      <td>False</td>\n",
       "      <td>False</td>\n",
       "      <td>False</td>\n",
       "      <td>...</td>\n",
       "      <td>False</td>\n",
       "      <td>False</td>\n",
       "      <td>False</td>\n",
       "      <td>False</td>\n",
       "      <td>False</td>\n",
       "      <td>False</td>\n",
       "      <td>False</td>\n",
       "      <td>False</td>\n",
       "      <td>False</td>\n",
       "      <td>False</td>\n",
       "    </tr>\n",
       "    <tr>\n",
       "      <th>182</th>\n",
       "      <td>True</td>\n",
       "      <td>True</td>\n",
       "      <td>True</td>\n",
       "      <td>False</td>\n",
       "      <td>False</td>\n",
       "      <td>True</td>\n",
       "      <td>False</td>\n",
       "      <td>True</td>\n",
       "      <td>False</td>\n",
       "      <td>False</td>\n",
       "      <td>...</td>\n",
       "      <td>False</td>\n",
       "      <td>False</td>\n",
       "      <td>False</td>\n",
       "      <td>False</td>\n",
       "      <td>False</td>\n",
       "      <td>True</td>\n",
       "      <td>True</td>\n",
       "      <td>True</td>\n",
       "      <td>False</td>\n",
       "      <td>False</td>\n",
       "    </tr>\n",
       "    <tr>\n",
       "      <th>89</th>\n",
       "      <td>True</td>\n",
       "      <td>False</td>\n",
       "      <td>True</td>\n",
       "      <td>True</td>\n",
       "      <td>True</td>\n",
       "      <td>True</td>\n",
       "      <td>True</td>\n",
       "      <td>False</td>\n",
       "      <td>False</td>\n",
       "      <td>False</td>\n",
       "      <td>...</td>\n",
       "      <td>False</td>\n",
       "      <td>False</td>\n",
       "      <td>False</td>\n",
       "      <td>False</td>\n",
       "      <td>False</td>\n",
       "      <td>False</td>\n",
       "      <td>False</td>\n",
       "      <td>False</td>\n",
       "      <td>False</td>\n",
       "      <td>False</td>\n",
       "    </tr>\n",
       "    <tr>\n",
       "      <th>73</th>\n",
       "      <td>False</td>\n",
       "      <td>True</td>\n",
       "      <td>True</td>\n",
       "      <td>False</td>\n",
       "      <td>False</td>\n",
       "      <td>True</td>\n",
       "      <td>True</td>\n",
       "      <td>True</td>\n",
       "      <td>True</td>\n",
       "      <td>False</td>\n",
       "      <td>...</td>\n",
       "      <td>False</td>\n",
       "      <td>False</td>\n",
       "      <td>False</td>\n",
       "      <td>False</td>\n",
       "      <td>False</td>\n",
       "      <td>False</td>\n",
       "      <td>False</td>\n",
       "      <td>False</td>\n",
       "      <td>False</td>\n",
       "      <td>False</td>\n",
       "    </tr>\n",
       "  </tbody>\n",
       "</table>\n",
       "<p>4 rows × 200 columns</p>\n",
       "</div>"
      ],
      "text/plain": [
       "       0      1     2      3      4      5      6      7      8      9    \\\n",
       "39   False  False  True   True  False  False   True  False  False  False   \n",
       "182   True   True  True  False  False   True  False   True  False  False   \n",
       "89    True  False  True   True   True   True   True  False  False  False   \n",
       "73   False   True  True  False  False   True   True   True   True  False   \n",
       "\n",
       "     ...      190    191    192    193    194    195    196    197    198  \\\n",
       "39   ...    False  False  False  False  False  False  False  False  False   \n",
       "182  ...    False  False  False  False  False   True   True   True  False   \n",
       "89   ...    False  False  False  False  False  False  False  False  False   \n",
       "73   ...    False  False  False  False  False  False  False  False  False   \n",
       "\n",
       "       199  \n",
       "39   False  \n",
       "182  False  \n",
       "89   False  \n",
       "73   False  \n",
       "\n",
       "[4 rows x 200 columns]"
      ]
     },
     "execution_count": 19,
     "metadata": {},
     "output_type": "execute_result"
    }
   ],
   "source": [
    "X_train[:4]"
   ]
  },
  {
   "cell_type": "markdown",
   "metadata": {},
   "source": [
    "#### Export dataset\n"
   ]
  },
  {
   "cell_type": "code",
   "execution_count": 20,
   "metadata": {},
   "outputs": [],
   "source": [
    "tmp_featured_tweets = tweets.apply(lambda tweet: feature_vector.isin((tweet)))"
   ]
  },
  {
   "cell_type": "code",
   "execution_count": 21,
   "metadata": {},
   "outputs": [],
   "source": [
    "tmp_golden_labels = df.drop('Tweets', axis = 1)"
   ]
  },
  {
   "cell_type": "code",
   "execution_count": 22,
   "metadata": {},
   "outputs": [],
   "source": [
    "pd.concat([tmp_featured_tweets, tmp_golden_labels], axis = 1).to_csv('tweet_sentiment.csv')"
   ]
  },
  {
   "cell_type": "code",
   "execution_count": 23,
   "metadata": {},
   "outputs": [],
   "source": [
    "feature_vector.to_csv('tweet_vocab.csv')"
   ]
  },
  {
   "cell_type": "markdown",
   "metadata": {},
   "source": [
    "# Part 4\n",
    "**The SVM model**"
   ]
  },
  {
   "cell_type": "code",
   "execution_count": 24,
   "metadata": {},
   "outputs": [],
   "source": [
    "#Initializing a SVM model \n",
    "svm = LinearSVC()"
   ]
  },
  {
   "cell_type": "code",
   "execution_count": 25,
   "metadata": {},
   "outputs": [
    {
     "data": {
      "text/plain": [
       "LinearSVC(C=1.0, class_weight=None, dual=True, fit_intercept=True,\n",
       "     intercept_scaling=1, loss='squared_hinge', max_iter=1000,\n",
       "     multi_class='ovr', penalty='l2', random_state=None, tol=0.0001,\n",
       "     verbose=0)"
      ]
     },
     "execution_count": 25,
     "metadata": {},
     "output_type": "execute_result"
    }
   ],
   "source": [
    "#Fitting the model to the training data\n",
    "\n",
    "svm.fit(X_train, y_train)"
   ]
  },
  {
   "cell_type": "code",
   "execution_count": 26,
   "metadata": {},
   "outputs": [
    {
     "data": {
      "text/plain": [
       "0.9916317991631799"
      ]
     },
     "execution_count": 26,
     "metadata": {},
     "output_type": "execute_result"
    }
   ],
   "source": [
    "#Extracting the accuracy score from the training data\n",
    "\n",
    "svm.score(X_train, y_train)"
   ]
  },
  {
   "cell_type": "code",
   "execution_count": 27,
   "metadata": {},
   "outputs": [
    {
     "data": {
      "text/plain": [
       "0.5145631067961165"
      ]
     },
     "execution_count": 27,
     "metadata": {},
     "output_type": "execute_result"
    }
   ],
   "source": [
    "#Extracting the accuracy score from the training data\n",
    "\n",
    "svm.score(X_test, y_test)"
   ]
  },
  {
   "cell_type": "code",
   "execution_count": 28,
   "metadata": {},
   "outputs": [
    {
     "name": "stdout",
     "output_type": "stream",
     "text": [
      "             precision    recall  f1-score   support\n",
      "\n",
      "        1.0       0.63      0.68      0.66        59\n",
      "        2.0       0.22      0.15      0.18        13\n",
      "        3.0       0.35      0.35      0.35        31\n",
      "\n",
      "avg / total       0.50      0.51      0.51       103\n",
      "\n"
     ]
    }
   ],
   "source": [
    "actual = y_test\n",
    "predicted = svm.predict(X_test)\n",
    "print(classification_report(actual, predicted) )"
   ]
  },
  {
   "cell_type": "markdown",
   "metadata": {},
   "source": [
    "### Other SVM models\n",
    "***Linear SVM use one vs rest where as the others use One vs One***"
   ]
  },
  {
   "cell_type": "code",
   "execution_count": 29,
   "metadata": {},
   "outputs": [
    {
     "data": {
      "text/plain": [
       "0.4854368932038835"
      ]
     },
     "execution_count": 29,
     "metadata": {},
     "output_type": "execute_result"
    }
   ],
   "source": [
    "clff = SVC(kernel='linear') #multi_class='crammer_singer'\n",
    "clff.fit(X_train, y_train)\n",
    "clff.score(X_test, y_test)"
   ]
  },
  {
   "cell_type": "code",
   "execution_count": 30,
   "metadata": {},
   "outputs": [
    {
     "data": {
      "text/plain": [
       "0.5728155339805825"
      ]
     },
     "execution_count": 30,
     "metadata": {},
     "output_type": "execute_result"
    }
   ],
   "source": [
    "clfr = SVC(kernel='poly')\n",
    "clfr.fit(X_train, y_train)\n",
    "clfr.score(X_test, y_test)"
   ]
  },
  {
   "cell_type": "code",
   "execution_count": 31,
   "metadata": {},
   "outputs": [
    {
     "data": {
      "text/plain": [
       "0.5728155339805825"
      ]
     },
     "execution_count": 31,
     "metadata": {},
     "output_type": "execute_result"
    }
   ],
   "source": [
    "clff = SVC(kernel='rbf')\n",
    "clff.fit(X_train, y_train)\n",
    "clff.score(X_test, y_test)"
   ]
  },
  {
   "cell_type": "markdown",
   "metadata": {},
   "source": [
    "**Graphical hyper-parameter optimization**"
   ]
  },
  {
   "cell_type": "code",
   "execution_count": 32,
   "metadata": {},
   "outputs": [
    {
     "data": {
      "image/png": "[encoded data removed]",
      "text/plain": [
       "<Figure size 432x288 with 1 Axes>"
      ]
     },
     "metadata": {},
     "output_type": "display_data"
    }
   ],
   "source": [
    "training_scores = []\n",
    "testing_scores = []\n",
    "\n",
    "param_list = [0.00001, 0.0001, 0.001, 0.01, 0.1, 10, 100, 1000]\n",
    "\n",
    "# Evaluate the training and test classification errors for each value of the parameter\n",
    "\n",
    "for param in param_list:\n",
    "    \n",
    "    # Create SVM object and fit\n",
    "    \n",
    "    svm = LinearSVC(C = param, random_state = 42)\n",
    "    #svm = SVC(kernel='rbf', C = param, random_state = 42)\n",
    "    svm.fit(X_train, y_train)\n",
    "    \n",
    "    # Evaluate the accuracy scores and append to lists\n",
    "    \n",
    "    training_scores.append(svm.score(X_train, y_train) )\n",
    "    testing_scores.append(svm.score(X_test, y_test) )\n",
    "    \n",
    "# Plot results\n",
    "\n",
    "plt.semilogx(param_list, training_scores, param_list, testing_scores)\n",
    "plt.legend((\"train\", \"test\"))\n",
    "plt.ylabel('Accuracy scores')\n",
    "plt.xlabel('C (Inverse regularization strength)')\n",
    "plt.show()"
   ]
  },
  {
   "cell_type": "markdown",
   "metadata": {},
   "source": [
    "**Hyper-parameter optimization using GridSearchCV**"
   ]
  },
  {
   "cell_type": "code",
   "execution_count": 33,
   "metadata": {},
   "outputs": [
    {
     "name": "stdout",
     "output_type": "stream",
     "text": [
      "The best value of the inverse regularization strength is: {'C': 0.01}\n",
      "The best score of the inverse regularization strength is: 0.5899581589958159\n"
     ]
    }
   ],
   "source": [
    "#Building the model \n",
    "\n",
    "svm = LinearSVC(random_state = 50)\n",
    "\n",
    "#Using GridSearchCV to search for the best parameter\n",
    "\n",
    "grid = GridSearchCV(svm, {'C':[0.00001, 0.0001, 0.001, 0.01, 0.1, 10, 100, 1000]}, cv=10)\n",
    "grid.fit(X_train, y_train)\n",
    "\n",
    "# Print out the best parameter\n",
    "\n",
    "print(\"The best value of the inverse regularization strength is:\", grid.best_params_)\n",
    "print(\"The best score of the inverse regularization strength is:\", grid.best_score_)"
   ]
  },
  {
   "cell_type": "markdown",
   "metadata": {},
   "source": [
    "# Part 5\n",
    "**KNN**"
   ]
  },
  {
   "cell_type": "code",
   "execution_count": 34,
   "metadata": {},
   "outputs": [],
   "source": [
    "knn_classifier = KNeighborsClassifier(n_neighbors=1)"
   ]
  },
  {
   "cell_type": "code",
   "execution_count": 35,
   "metadata": {},
   "outputs": [
    {
     "data": {
      "text/plain": [
       "KNeighborsClassifier(algorithm='auto', leaf_size=30, metric='minkowski',\n",
       "           metric_params=None, n_jobs=1, n_neighbors=1, p=2,\n",
       "           weights='uniform')"
      ]
     },
     "execution_count": 35,
     "metadata": {},
     "output_type": "execute_result"
    }
   ],
   "source": [
    "knn_classifier.fit(X_train, y_train)"
   ]
  },
  {
   "cell_type": "code",
   "execution_count": 36,
   "metadata": {},
   "outputs": [
    {
     "data": {
      "text/plain": [
       "0.4077669902912621"
      ]
     },
     "execution_count": 36,
     "metadata": {},
     "output_type": "execute_result"
    }
   ],
   "source": [
    "knn_classifier.score(X_test, y_test)"
   ]
  },
  {
   "cell_type": "code",
   "execution_count": 37,
   "metadata": {},
   "outputs": [
    {
     "name": "stdout",
     "output_type": "stream",
     "text": [
      "             precision    recall  f1-score   support\n",
      "\n",
      "        1.0       0.68      0.36      0.47        59\n",
      "        2.0       0.20      0.08      0.11        13\n",
      "        3.0       0.30      0.65      0.41        31\n",
      "\n",
      "avg / total       0.50      0.41      0.40       103\n",
      "\n"
     ]
    }
   ],
   "source": [
    "actual = y_test\n",
    "predicted = knn_classifier.predict(X_test)\n",
    "print(classification_report(actual, predicted) )"
   ]
  },
  {
   "cell_type": "markdown",
   "metadata": {},
   "source": [
    "# Part 6\n",
    "**Naive Bayes model** "
   ]
  },
  {
   "cell_type": "code",
   "execution_count": 38,
   "metadata": {},
   "outputs": [
    {
     "data": {
      "text/plain": [
       "0.44660194174757284"
      ]
     },
     "execution_count": 38,
     "metadata": {},
     "output_type": "execute_result"
    }
   ],
   "source": [
    "#Initializing an NB classifier\n",
    "\n",
    "nb_classifier = GaussianNB()\n",
    "\n",
    "#Fitting the classifier into the training data\n",
    "\n",
    "nb_classifier.fit(X_train, y_train)\n",
    "\n",
    "#Extracting the accuracy score from the base classifier\n",
    "\n",
    "nb_classifier.score(X_test, y_test)"
   ]
  },
  {
   "cell_type": "code",
   "execution_count": 39,
   "metadata": {},
   "outputs": [
    {
     "name": "stdout",
     "output_type": "stream",
     "text": [
      "             precision    recall  f1-score   support\n",
      "\n",
      "        1.0       0.74      0.42      0.54        59\n",
      "        2.0       0.23      0.46      0.31        13\n",
      "        3.0       0.35      0.48      0.41        31\n",
      "\n",
      "avg / total       0.56      0.45      0.47       103\n",
      "\n"
     ]
    }
   ],
   "source": [
    "actual = y_test\n",
    "predicted = nb_classifier.predict(X_test)\n",
    "print(classification_report(actual, predicted) )"
   ]
  },
  {
   "cell_type": "markdown",
   "metadata": {},
   "source": [
    "**Multinomial NB **"
   ]
  },
  {
   "cell_type": "code",
   "execution_count": 40,
   "metadata": {},
   "outputs": [
    {
     "data": {
      "text/plain": [
       "0.6407766990291263"
      ]
     },
     "execution_count": 40,
     "metadata": {},
     "output_type": "execute_result"
    }
   ],
   "source": [
    "X_trainNB = X_trainO.apply(lambda l: \" \".join(l))\n",
    "X_testNB  = X_testO.apply(lambda l: \" \".join(l))\n",
    "\n",
    "vect = CountVectorizer().fit(X_trainNB)\n",
    "X_train_vectorized = vect.transform(X_trainNB)\n",
    "\n",
    "clfrNB = MultinomialNB(alpha = 0.1)\n",
    "clfrNB.fit(X_train_vectorized, y_train)\n",
    "\n",
    "clfrNB.score(vect.transform(X_testNB), y_test)"
   ]
  },
  {
   "cell_type": "code",
   "execution_count": 41,
   "metadata": {},
   "outputs": [
    {
     "name": "stdout",
     "output_type": "stream",
     "text": [
      "             precision    recall  f1-score   support\n",
      "\n",
      "        1.0       0.68      0.85      0.75        59\n",
      "        2.0       0.50      0.31      0.38        13\n",
      "        3.0       0.57      0.39      0.46        31\n",
      "\n",
      "avg / total       0.62      0.64      0.62       103\n",
      "\n"
     ]
    }
   ],
   "source": [
    "actual = y_test\n",
    "predicted = clfrNB.predict(vect.transform(X_testNB))\n",
    "print(classification_report(actual, predicted) )"
   ]
  },
  {
   "cell_type": "code",
   "execution_count": 42,
   "metadata": {},
   "outputs": [
    {
     "name": "stdout",
     "output_type": "stream",
     "text": [
      "Text                                                                                                      Prediction    Actual\n",
      "0 idaddr pleas make vaccin for sanghi viru of abus nehru ji khandan amp rahulgandhi ji phobia vapam dr idaddr fight corona viru do not fight opposit parti get vaccin for gandhi phobia amp do not get well soon httpaddr\n",
      "                                                                                                               1.0       3.0\n",
      "1 idaddr staci i hear what you are say and I am not realli complain but death is death and sinc flu come from contact mostli would not you agre that we could elimin some of the death caus by our casual approach just say that flu is a big killer even with a vaccin\n",
      "                                                                                                               1.0       3.0\n",
      "2 if you are healthi and you catch it chanc are you shall you will come out okay if you are not chanc are you won t still both requir hospit vaccin onli way out coronaviru\n",
      "                                                                                                               1.0       1.0\n",
      "3 idaddr idaddr idaddr number or should have the option of whether they want to wash hand or not thi novel viru ha no vaccin for now the onli method of protect is spacial physic distanc you cannot buy that with money but you still have to pay util bill and food cloth cost\n",
      "                                                                                                               1.0       1.0\n",
      "4 right now the onli time i would use the word effici effect and idaddr in the same sentenc is if the word not wa bold idaddr vaccin fauci\n",
      "                                                                                                               3.0       3.0\n",
      "5 all joke asid major of peopl are not am not take thi serious i see so mani peopl ignor social distanc use ppe incorrectli stay at home etc i do not see ani of thi end anytim soon unless a vaccin or treatment is develop\n",
      "                                                                                                               1.0       1.0\n",
      "6 but also the us we need more ventil mask glove access to test a vaccin mcdonald s you can now get a big mac in three differ size hamburg hamburg hamburg\n",
      "                                                                                                               1.0       1.0\n",
      "7 scientist coronaviru is not mutat quickli and might respond to a singl vaccin httpaddr\n",
      "                                                                                                               1.0       1.0\n",
      "8 i think I have seen thi movi thi is about the time when they rush out a vaccin without test and turn us all into zombi\n",
      "                                                                                                               2.0       2.0\n",
      "9 idaddr idaddr idaddr i heard the vaccin caus shingl later on in life so I am not sure\n",
      "                                                                                                               3.0       2.0\n"
     ]
    }
   ],
   "source": [
    "print(\"Text\", \"\".ljust(100), \"Prediction\", \"\".ljust(2), \"Actual\")\n",
    "for i in range(10):#len(X_testNB)):\n",
    "    print(i, X_testNB.iloc[i])\n",
    "    print(\"\".ljust(110), predicted[i], \"\".ljust(5), actual[i])"
   ]
  },
  {
   "cell_type": "markdown",
   "metadata": {},
   "source": [
    "# Part 7\n",
    "2 layer Neural Network with softmax activation\n",
    "+ https://colab.research.google.com/github/MubashirullahD/Tweets-Sentiment-Analysis/blob/master/Sentiment_Analysis_of_Tweets_using_NN.ipynb"
   ]
  },
  {
   "cell_type": "markdown",
   "metadata": {},
   "source": [
    "# Other ideas\n",
    "+ Naïve Bayes Classifier with Sentiment Lexicon: http://www.iaeng.org/IJCS/issues_v46/issue_2/IJCS_46_2_01.pdf\n",
    "+ Document Retrivial approach. Treat each tweet group as a document i.e. document of positive tweets. Use tf-idf vector model and calculate centroid of all three documents and new tweet and evalute their cosine similarity."
   ]
  },
  {
   "cell_type": "markdown",
   "metadata": {},
   "source": [
    "### References\n",
    "Pandas Excel: https://pythonspot.com/read-excel-with-pandas/\n",
    "\n",
    "Panda Summary: https://pandas.pydata.org/pandas-docs/stable/getting_started/10min.html\n",
    "\n",
    "Contractions: https://stackoverflow.com/questions/43018030/replace-apostrophe-short-words-in-python\n",
    "\n",
    "Naive Bayes Summary: https://towardsdatascience.com/algorithms-for-text-classification-part-1-naive-bayes-3ff1d116fdd8\n",
    "\n",
    "Other articles: \n",
    "* https://www.geeksforgeeks.org/multiclass-classification-using-scikit-learn/\n",
    "* https://www.geeksforgeeks.org/confusion-matrix-machine-learning/\n",
    "* https://scikit-learn.org/stable/modules/svm.html#svm-kernels"
   ]
  },
  {
   "cell_type": "code",
   "execution_count": null,
   "metadata": {},
   "outputs": [],
   "source": []
  }
 ],
 "metadata": {
  "kernelspec": {
   "display_name": "Python 3",
   "language": "python",
   "name": "python3"
  },
  "language_info": {
   "codemirror_mode": {
    "name": "ipython",
    "version": 3
   },
   "file_extension": ".py",
   "mimetype": "text/x-python",
   "name": "python",
   "nbconvert_exporter": "python",
   "pygments_lexer": "ipython3",
   "version": "3.6.5"
  }
 },
 "nbformat": 4,
 "nbformat_minor": 2
}
