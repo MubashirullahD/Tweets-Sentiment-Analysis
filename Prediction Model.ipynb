{
 "cells": [
  {
   "cell_type": "markdown",
   "metadata": {},
   "source": [
    "# Sentiment Analysis of Tweets related to Vaccine\n",
    "Sentiment Analysis: The process of computationally identifying and categorising opinions expressed in a piece of text, especially in order to determine whether the writer's attitude towards a particular topic, product, etc. is positive, negative, or neutral (Lexico Dictionary, Oxford University Press)"
   ]
  },
  {
   "cell_type": "code",
   "execution_count": 1,
   "metadata": {},
   "outputs": [],
   "source": [
    "import numpy as np\n",
    "import pandas as pd\n",
    "import matplotlib.pyplot as plt\n",
    "from emoji import demojize\n",
    "from itertools import chain\n",
    "from collections import Counter\n",
    "from nltk.stem import PorterStemmer\n",
    "from composition import to_replace"
   ]
  },
  {
   "cell_type": "code",
   "execution_count": 2,
   "metadata": {},
   "outputs": [],
   "source": [
    "from sklearn.model_selection import train_test_split\n",
    "from sklearn.model_selection import GridSearchCV\n",
    "\n",
    "from sklearn.metrics import confusion_matrix \n",
    "from sklearn.metrics import accuracy_score \n",
    "from sklearn.metrics import classification_report\n",
    "\n",
    "from sklearn.neighbors import KNeighborsClassifier\n",
    "from sklearn.feature_extraction.text import CountVectorizer\n",
    "from sklearn.naive_bayes import MultinomialNB\n",
    "from sklearn.naive_bayes import GaussianNB\n",
    "from sklearn.svm import LinearSVC\n",
    "from sklearn.svm import SVC"
   ]
  },
  {
   "cell_type": "markdown",
   "metadata": {},
   "source": [
    "# Part 1\n",
    "## Collect the tweets"
   ]
  },
  {
   "cell_type": "code",
   "execution_count": 3,
   "metadata": {},
   "outputs": [],
   "source": [
    "loc = './tweets.xlsx'\n",
    "#loc = './old_tweets.xlsx'"
   ]
  },
  {
   "cell_type": "code",
   "execution_count": 4,
   "metadata": {},
   "outputs": [],
   "source": [
    "try:\n",
    "    df = pd.read_excel(loc, sheet_name='Sheet1')\n",
    "except FileNotFoundError:\n",
    "    print(\"EXCEL FILE NOT FOUND\")"
   ]
  },
  {
   "cell_type": "code",
   "execution_count": 5,
   "metadata": {},
   "outputs": [
    {
     "name": "stdout",
     "output_type": "stream",
     "text": [
      "Column headings:\n",
      "Index(['Tweets', 'Positive', 'Negative', 'Neutral'], dtype='object')\n"
     ]
    }
   ],
   "source": [
    "print(\"Column headings:\")\n",
    "print(df.columns)"
   ]
  },
  {
   "cell_type": "code",
   "execution_count": 6,
   "metadata": {},
   "outputs": [
    {
     "data": {
      "text/html": [
       "<div>\n",
       "<style scoped>\n",
       "    .dataframe tbody tr th:only-of-type {\n",
       "        vertical-align: middle;\n",
       "    }\n",
       "\n",
       "    .dataframe tbody tr th {\n",
       "        vertical-align: top;\n",
       "    }\n",
       "\n",
       "    .dataframe thead th {\n",
       "        text-align: right;\n",
       "    }\n",
       "</style>\n",
       "<table border=\"1\" class=\"dataframe\">\n",
       "  <thead>\n",
       "    <tr style=\"text-align: right;\">\n",
       "      <th></th>\n",
       "      <th>Tweets</th>\n",
       "      <th>Positive</th>\n",
       "      <th>Negative</th>\n",
       "      <th>Neutral</th>\n",
       "    </tr>\n",
       "  </thead>\n",
       "  <tbody>\n",
       "    <tr>\n",
       "      <th>0</th>\n",
       "      <td>i literally cannot wait stand in line for my C...</td>\n",
       "      <td>1.0</td>\n",
       "      <td>0.0</td>\n",
       "      <td>0.0</td>\n",
       "    </tr>\n",
       "    <tr>\n",
       "      <th>1</th>\n",
       "      <td>@BiomimicAlexis @WashPostPR @JoelAchenbach “Go...</td>\n",
       "      <td>1.0</td>\n",
       "      <td>0.0</td>\n",
       "      <td>0.0</td>\n",
       "    </tr>\n",
       "    <tr>\n",
       "      <th>2</th>\n",
       "      <td>China has successfully created a Vaccine for t...</td>\n",
       "      <td>1.0</td>\n",
       "      <td>0.0</td>\n",
       "      <td>0.0</td>\n",
       "    </tr>\n",
       "    <tr>\n",
       "      <th>3</th>\n",
       "      <td>Just My Vaccination #InfectiousSongsOrBands @H...</td>\n",
       "      <td>0.0</td>\n",
       "      <td>0.0</td>\n",
       "      <td>1.0</td>\n",
       "    </tr>\n",
       "    <tr>\n",
       "      <th>4</th>\n",
       "      <td>@NYGovCuomo Actually there is number on humans...</td>\n",
       "      <td>0.0</td>\n",
       "      <td>0.0</td>\n",
       "      <td>1.0</td>\n",
       "    </tr>\n",
       "  </tbody>\n",
       "</table>\n",
       "</div>"
      ],
      "text/plain": [
       "                                              Tweets  Positive  Negative  \\\n",
       "0  i literally cannot wait stand in line for my C...       1.0       0.0   \n",
       "1  @BiomimicAlexis @WashPostPR @JoelAchenbach “Go...       1.0       0.0   \n",
       "2  China has successfully created a Vaccine for t...       1.0       0.0   \n",
       "3  Just My Vaccination #InfectiousSongsOrBands @H...       0.0       0.0   \n",
       "4  @NYGovCuomo Actually there is number on humans...       0.0       0.0   \n",
       "\n",
       "   Neutral  \n",
       "0      0.0  \n",
       "1      0.0  \n",
       "2      0.0  \n",
       "3      1.0  \n",
       "4      1.0  "
      ]
     },
     "execution_count": 6,
     "metadata": {},
     "output_type": "execute_result"
    }
   ],
   "source": [
    "df.head()"
   ]
  },
  {
   "cell_type": "code",
   "execution_count": 7,
   "metadata": {},
   "outputs": [
    {
     "name": "stdout",
     "output_type": "stream",
     "text": [
      "342\n"
     ]
    }
   ],
   "source": [
    "# Given all the tweets were not labeled, we only pick till they are\n",
    "labeled_till = (np.where(np.isnan(df['Negative']))[0][0] - 1)\n",
    "print(labeled_till+1)"
   ]
  },
  {
   "cell_type": "code",
   "execution_count": 8,
   "metadata": {},
   "outputs": [],
   "source": [
    "df = df.loc[0:labeled_till, :]\n",
    "\n",
    "Tweets   = df[\"Tweets\"]\n",
    "Positive = df[\"Positive\"]\n",
    "Negative = df[\"Negative\"]\n",
    "Neutral  = df[\"Neutral\"]"
   ]
  },
  {
   "cell_type": "code",
   "execution_count": 9,
   "metadata": {},
   "outputs": [
    {
     "name": "stdout",
     "output_type": "stream",
     "text": [
      "Negative 43.0\n",
      "Positive 195.0\n",
      "Neutral  104.0\n"
     ]
    },
    {
     "data": {
      "text/plain": [
       "342.0"
      ]
     },
     "execution_count": 9,
     "metadata": {},
     "output_type": "execute_result"
    }
   ],
   "source": [
    "print(\"Negative\" , Negative.values.sum())\n",
    "print(\"Positive\" , Positive.values.sum())\n",
    "print(\"Neutral \" , Neutral.values.sum())\n",
    "Negative.values.sum() + Positive.values.sum() + Neutral.values.sum()"
   ]
  },
  {
   "cell_type": "markdown",
   "metadata": {},
   "source": [
    "# Part 2 \n",
    "## Preprocessing\n"
   ]
  },
  {
   "cell_type": "code",
   "execution_count": 10,
   "metadata": {},
   "outputs": [],
   "source": [
    "def processTweet(tweets):\n",
    "    \"\"\"\n",
    "    Expects tweets to be a pandas series\n",
    "    • Lower-casing\n",
    "\n",
    "    • Normalizing URLs\n",
    "\n",
    "    • Normalizing Tags and email addresses\n",
    "\n",
    "    • Normalizing Numbers\n",
    "\n",
    "    • Normalizing Dollars\n",
    "\n",
    "    • Word Stemming\n",
    "    \n",
    "    • Normalize punctuation \n",
    "    \n",
    "    • Expand Contractions \n",
    "    \n",
    "    • Demojize\n",
    "    \n",
    "    • Remove punctuation\n",
    "    \n",
    "    (#TODO) Other ideas\n",
    "    • Negation. Optimization concept.\n",
    "    • Removal of stop-words and alphanumberic\n",
    "    \"\"\"\n",
    "    \n",
    "    # Lower case text\n",
    "    tweets = tweets.str.lower()\n",
    "    \n",
    "    # HTML tags\n",
    "    tweets = tweets.str.replace(r\"<[^<>]+>\", \" \")\n",
    "\n",
    "    # Account Tag @theFakeDonalDTrump \n",
    "    tweets = tweets.str.replace(r\"@[^\\s]+\", 'idaddr')\n",
    "    \n",
    "    # Email address\n",
    "    tweets = tweets.str.replace(r\"[^\\s]+@[^\\s]+\", 'emailaddr')\n",
    "    \n",
    "    # Handle URLS\n",
    "    # Look for strings starting with http:// or https://\n",
    "    tweets = tweets.str.replace(r\"(http|https)://[^\\s]*\", 'httpaddr')\n",
    "    \n",
    "    # Handle Numbers\n",
    "    # Look for one or more characters between 0-9\n",
    "    tweets = tweets.str.replace(r\"[0-9]+\", 'number')\n",
    "    \n",
    "    # Handle $ sign\n",
    "    tweets = tweets.str.replace(r\"[$]+\", 'dollar')\n",
    "    \n",
    "    # Normalize punctuation\n",
    "    transl_table = dict( [ (ord(x), ord(y)) for x,y in zip( u\"‘’´“”–-\",  u\"'''\\\"\\\"--\") ] ) \n",
    "    tweets = tweets.apply(lambda a: a.translate(transl_table))\n",
    "    \n",
    "    # Expand Contractions\n",
    "    tweets = tweets.apply(lambda string: \" \".join([to_replace[i] if i in to_replace.keys() else i for i in string.split()]))\n",
    "    \n",
    "    # Demojize text\n",
    "    tweets = tweets.apply(demojize)\n",
    "    \n",
    "    # Handle punctuation\n",
    "    tweets = tweets.str.replace(r\"[^\\w]+\", ' ')\n",
    "    \n",
    "    # Stem\n",
    "    stemmer = PorterStemmer()\n",
    "    tweets  = tweets.apply(lambda a: list(map(stemmer.stem,a.split())))\n",
    "    \n",
    "    return tweets"
   ]
  },
  {
   "cell_type": "code",
   "execution_count": 11,
   "metadata": {},
   "outputs": [],
   "source": [
    "tweets = processTweet(Tweets)"
   ]
  },
  {
   "cell_type": "code",
   "execution_count": 12,
   "metadata": {},
   "outputs": [],
   "source": [
    "target   = df.drop('Tweets', axis = 1)\n",
    "\n",
    "#Reverse one-hot notation  \n",
    "\n",
    "target   = target.multiply([1,2,3]).values\n",
    "target   = np.concatenate(target)\n",
    "target   = target[target!= 0]"
   ]
  },
  {
   "cell_type": "code",
   "execution_count": 13,
   "metadata": {},
   "outputs": [],
   "source": [
    "X_trainO, X_testO, y_train, y_test = train_test_split(tweets, target, test_size = 0.3, random_state = 42,\n",
    "                                                    stratify = target)                                     "
   ]
  },
  {
   "cell_type": "markdown",
   "metadata": {},
   "source": [
    "# Part 3\n",
    "## Make Feature Vector\n",
    "Using the corpus, most common words are used to make a feature vector\n",
    "Each tweet is then converted into a feature vector\n",
    "\n",
    "\n",
    "###### Concatinating strings in series"
   ]
  },
  {
   "cell_type": "code",
   "execution_count": 14,
   "metadata": {},
   "outputs": [],
   "source": [
    "allWords = chain.from_iterable(X_trainO) #tweets"
   ]
  },
  {
   "cell_type": "code",
   "execution_count": 15,
   "metadata": {},
   "outputs": [],
   "source": [
    "words = Counter(allWords)"
   ]
  },
  {
   "cell_type": "code",
   "execution_count": 16,
   "metadata": {},
   "outputs": [
    {
     "data": {
      "text/plain": [
       "[('idaddr', 334),\n",
       " ('the', 280),\n",
       " ('vaccin', 266),\n",
       " ('a', 229),\n",
       " ('is', 194),\n",
       " ('to', 169),\n",
       " ('it', 112),\n",
       " ('not', 101),\n",
       " ('and', 100),\n",
       " ('httpaddr', 98),\n",
       " ('number', 96),\n",
       " ('of', 96),\n",
       " ('for', 93),\n",
       " ('that', 81),\n",
       " ('in', 76),\n",
       " ('we', 72),\n",
       " ('you', 71),\n",
       " ('thi', 66),\n",
       " ('be', 65),\n",
       " ('are', 60),\n",
       " ('have', 57),\n",
       " ('will', 53),\n",
       " ('ha', 53),\n",
       " ('coronaviru', 48),\n",
       " ('viru', 47),\n",
       " ('i', 42),\n",
       " ('they', 38),\n",
       " ('there', 38),\n",
       " ('but', 37),\n",
       " ('if', 37),\n",
       " ('do', 36),\n",
       " ('or', 34),\n",
       " ('with', 32),\n",
       " ('peopl', 31),\n",
       " ('on', 30),\n",
       " ('as', 29),\n",
       " ('develop', 28),\n",
       " ('get', 28),\n",
       " ('flu', 28),\n",
       " ('mutat', 27),\n",
       " ('about', 26),\n",
       " ('go', 26),\n",
       " ('can', 26),\n",
       " ('no', 25),\n",
       " ('like', 24),\n",
       " ('how', 23),\n",
       " ('would', 23),\n",
       " ('wa', 22),\n",
       " ('an', 22),\n",
       " ('by', 22),\n",
       " ('out', 21),\n",
       " ('say', 21),\n",
       " ('take', 20),\n",
       " ('amp', 20),\n",
       " ('just', 20),\n",
       " ('covid', 20),\n",
       " ('one', 20),\n",
       " ('from', 20),\n",
       " ('us', 19),\n",
       " ('last', 19),\n",
       " ('time', 18),\n",
       " ('good', 18),\n",
       " ('all', 18),\n",
       " ('whi', 18),\n",
       " ('at', 18),\n",
       " ('I', 18),\n",
       " ('when', 18),\n",
       " ('make', 18),\n",
       " ('more', 18),\n",
       " ('he', 18),\n",
       " ('work', 17),\n",
       " ('until', 17),\n",
       " ('know', 17),\n",
       " ('thing', 17),\n",
       " ('am', 17),\n",
       " ('need', 17),\n",
       " ('so', 17),\n",
       " ('now', 16),\n",
       " ('some', 16),\n",
       " ('test', 16),\n",
       " ('month', 16),\n",
       " ('scientist', 16),\n",
       " ('s', 15),\n",
       " ('year', 15),\n",
       " ('think', 14),\n",
       " ('onli', 14),\n",
       " ('who', 14),\n",
       " ('want', 14),\n",
       " ('cure', 13),\n",
       " ('quickli', 13),\n",
       " ('hope', 13),\n",
       " ('should', 13),\n",
       " ('up', 12),\n",
       " ('news', 12),\n",
       " ('come', 12),\n",
       " ('their', 11),\n",
       " ('new', 11),\n",
       " ('mayb', 11),\n",
       " ('treatment', 11),\n",
       " ('corona', 11),\n",
       " ('what', 11),\n",
       " ('may', 11),\n",
       " ('long', 11),\n",
       " ('sinc', 11),\n",
       " ('veri', 10),\n",
       " ('infect', 10),\n",
       " ('other', 10),\n",
       " ('human', 10),\n",
       " ('where', 10),\n",
       " ('trump', 10),\n",
       " ('even', 10),\n",
       " ('health', 10),\n",
       " ('befor', 10),\n",
       " ('your', 10),\n",
       " ('hi', 10),\n",
       " ('avail', 10),\n",
       " ('doe', 10),\n",
       " ('immun', 10),\n",
       " ('world', 10),\n",
       " ('against', 9),\n",
       " ('did', 9),\n",
       " ('ani', 9),\n",
       " ('protect', 9),\n",
       " ('happen', 9),\n",
       " ('bill', 9),\n",
       " ('everyon', 9),\n",
       " ('too', 9),\n",
       " ('stop', 9),\n",
       " ('use', 9),\n",
       " ('diseas', 9),\n",
       " ('which', 9),\n",
       " ('gate', 9),\n",
       " ('back', 8),\n",
       " ('live', 8),\n",
       " ('way', 8),\n",
       " ('could', 8),\n",
       " ('been', 8),\n",
       " ('death', 8),\n",
       " ('look', 8),\n",
       " ('anti', 8),\n",
       " ('still', 8),\n",
       " ('well', 8),\n",
       " ('into', 8),\n",
       " ('trial', 8),\n",
       " ('care', 8),\n",
       " ('spread', 8),\n",
       " ('help', 8),\n",
       " ('effect', 8),\n",
       " ('me', 8),\n",
       " ('away', 8),\n",
       " ('slowli', 8),\n",
       " ('let', 7),\n",
       " ('found', 7),\n",
       " ('covidnumb', 7),\n",
       " ('suggest', 7),\n",
       " ('person', 7),\n",
       " ('rate', 7),\n",
       " ('down', 7),\n",
       " ('line', 7),\n",
       " ('kill', 7),\n",
       " ('my', 7),\n",
       " ('realli', 7),\n",
       " ('question', 7),\n",
       " ('die', 7),\n",
       " ('everi', 7),\n",
       " ('gonna', 7),\n",
       " ('mani', 7),\n",
       " ('see', 7),\n",
       " ('few', 7),\n",
       " ('mandatori', 7),\n",
       " ('wait', 7),\n",
       " ('compani', 7),\n",
       " ('countri', 7),\n",
       " ('real', 7),\n",
       " ('ye', 7),\n",
       " ('plan', 6),\n",
       " ('cannot', 6),\n",
       " ('start', 6),\n",
       " ('offer', 6),\n",
       " ('possibl', 6),\n",
       " ('best', 6),\n",
       " ('china', 6),\n",
       " ('had', 6),\n",
       " ('pandem', 6),\n",
       " ('soon', 6),\n",
       " ('enough', 6),\n",
       " ('call', 6),\n",
       " ('shall', 6),\n",
       " ('isol', 6),\n",
       " ('much', 6),\n",
       " ('creat', 6),\n",
       " ('save', 6),\n",
       " ('give', 6),\n",
       " ('than', 6),\n",
       " ('same', 6),\n",
       " ('these', 5),\n",
       " ('dollar', 5),\n",
       " ('safe', 5),\n",
       " ('dark_skin_ton', 5),\n",
       " ('drug', 5)]"
      ]
     },
     "execution_count": 16,
     "metadata": {},
     "output_type": "execute_result"
    }
   ],
   "source": [
    "words.most_common(200)"
   ]
  },
  {
   "cell_type": "code",
   "execution_count": 17,
   "metadata": {},
   "outputs": [],
   "source": [
    "feature_vector = pd.Series(sorted(words, key=words.get, reverse=True)[:200])"
   ]
  },
  {
   "cell_type": "code",
   "execution_count": 18,
   "metadata": {},
   "outputs": [],
   "source": [
    "X_train = X_trainO.apply(lambda tweet: feature_vector.isin((tweet)))\n",
    "X_test  = X_testO.apply(lambda tweet: feature_vector.isin((tweet)))"
   ]
  },
  {
   "cell_type": "code",
   "execution_count": 19,
   "metadata": {},
   "outputs": [
    {
     "data": {
      "text/html": [
       "<div>\n",
       "<style scoped>\n",
       "    .dataframe tbody tr th:only-of-type {\n",
       "        vertical-align: middle;\n",
       "    }\n",
       "\n",
       "    .dataframe tbody tr th {\n",
       "        vertical-align: top;\n",
       "    }\n",
       "\n",
       "    .dataframe thead th {\n",
       "        text-align: right;\n",
       "    }\n",
       "</style>\n",
       "<table border=\"1\" class=\"dataframe\">\n",
       "  <thead>\n",
       "    <tr style=\"text-align: right;\">\n",
       "      <th></th>\n",
       "      <th>0</th>\n",
       "      <th>1</th>\n",
       "      <th>2</th>\n",
       "      <th>3</th>\n",
       "      <th>4</th>\n",
       "      <th>5</th>\n",
       "      <th>6</th>\n",
       "      <th>7</th>\n",
       "      <th>8</th>\n",
       "      <th>9</th>\n",
       "      <th>...</th>\n",
       "      <th>190</th>\n",
       "      <th>191</th>\n",
       "      <th>192</th>\n",
       "      <th>193</th>\n",
       "      <th>194</th>\n",
       "      <th>195</th>\n",
       "      <th>196</th>\n",
       "      <th>197</th>\n",
       "      <th>198</th>\n",
       "      <th>199</th>\n",
       "    </tr>\n",
       "  </thead>\n",
       "  <tbody>\n",
       "    <tr>\n",
       "      <th>39</th>\n",
       "      <td>False</td>\n",
       "      <td>False</td>\n",
       "      <td>True</td>\n",
       "      <td>True</td>\n",
       "      <td>False</td>\n",
       "      <td>False</td>\n",
       "      <td>True</td>\n",
       "      <td>False</td>\n",
       "      <td>False</td>\n",
       "      <td>False</td>\n",
       "      <td>...</td>\n",
       "      <td>False</td>\n",
       "      <td>False</td>\n",
       "      <td>False</td>\n",
       "      <td>False</td>\n",
       "      <td>False</td>\n",
       "      <td>False</td>\n",
       "      <td>False</td>\n",
       "      <td>False</td>\n",
       "      <td>False</td>\n",
       "      <td>False</td>\n",
       "    </tr>\n",
       "    <tr>\n",
       "      <th>182</th>\n",
       "      <td>True</td>\n",
       "      <td>True</td>\n",
       "      <td>True</td>\n",
       "      <td>False</td>\n",
       "      <td>False</td>\n",
       "      <td>True</td>\n",
       "      <td>False</td>\n",
       "      <td>True</td>\n",
       "      <td>False</td>\n",
       "      <td>False</td>\n",
       "      <td>...</td>\n",
       "      <td>False</td>\n",
       "      <td>False</td>\n",
       "      <td>False</td>\n",
       "      <td>False</td>\n",
       "      <td>False</td>\n",
       "      <td>True</td>\n",
       "      <td>True</td>\n",
       "      <td>True</td>\n",
       "      <td>False</td>\n",
       "      <td>False</td>\n",
       "    </tr>\n",
       "    <tr>\n",
       "      <th>89</th>\n",
       "      <td>True</td>\n",
       "      <td>False</td>\n",
       "      <td>True</td>\n",
       "      <td>True</td>\n",
       "      <td>True</td>\n",
       "      <td>True</td>\n",
       "      <td>True</td>\n",
       "      <td>False</td>\n",
       "      <td>False</td>\n",
       "      <td>False</td>\n",
       "      <td>...</td>\n",
       "      <td>False</td>\n",
       "      <td>False</td>\n",
       "      <td>False</td>\n",
       "      <td>False</td>\n",
       "      <td>False</td>\n",
       "      <td>False</td>\n",
       "      <td>False</td>\n",
       "      <td>False</td>\n",
       "      <td>False</td>\n",
       "      <td>False</td>\n",
       "    </tr>\n",
       "    <tr>\n",
       "      <th>73</th>\n",
       "      <td>False</td>\n",
       "      <td>True</td>\n",
       "      <td>True</td>\n",
       "      <td>False</td>\n",
       "      <td>False</td>\n",
       "      <td>True</td>\n",
       "      <td>True</td>\n",
       "      <td>True</td>\n",
       "      <td>True</td>\n",
       "      <td>False</td>\n",
       "      <td>...</td>\n",
       "      <td>False</td>\n",
       "      <td>False</td>\n",
       "      <td>False</td>\n",
       "      <td>False</td>\n",
       "      <td>False</td>\n",
       "      <td>False</td>\n",
       "      <td>False</td>\n",
       "      <td>False</td>\n",
       "      <td>False</td>\n",
       "      <td>False</td>\n",
       "    </tr>\n",
       "  </tbody>\n",
       "</table>\n",
       "<p>4 rows × 200 columns</p>\n",
       "</div>"
      ],
      "text/plain": [
       "       0      1     2      3      4      5      6      7      8      9    \\\n",
       "39   False  False  True   True  False  False   True  False  False  False   \n",
       "182   True   True  True  False  False   True  False   True  False  False   \n",
       "89    True  False  True   True   True   True   True  False  False  False   \n",
       "73   False   True  True  False  False   True   True   True   True  False   \n",
       "\n",
       "     ...      190    191    192    193    194    195    196    197    198  \\\n",
       "39   ...    False  False  False  False  False  False  False  False  False   \n",
       "182  ...    False  False  False  False  False   True   True   True  False   \n",
       "89   ...    False  False  False  False  False  False  False  False  False   \n",
       "73   ...    False  False  False  False  False  False  False  False  False   \n",
       "\n",
       "       199  \n",
       "39   False  \n",
       "182  False  \n",
       "89   False  \n",
       "73   False  \n",
       "\n",
       "[4 rows x 200 columns]"
      ]
     },
     "execution_count": 19,
     "metadata": {},
     "output_type": "execute_result"
    }
   ],
   "source": [
    "X_train[:4]"
   ]
  },
  {
   "cell_type": "markdown",
   "metadata": {},
   "source": [
    "#### Export dataset\n"
   ]
  },
  {
   "cell_type": "code",
   "execution_count": 20,
   "metadata": {},
   "outputs": [],
   "source": [
    "tmp_featured_tweets = tweets.apply(lambda tweet: feature_vector.isin((tweet)))"
   ]
  },
  {
   "cell_type": "code",
   "execution_count": 21,
   "metadata": {},
   "outputs": [],
   "source": [
    "tmp_golden_labels = df.drop('Tweets', axis = 1)"
   ]
  },
  {
   "cell_type": "code",
   "execution_count": 22,
   "metadata": {},
   "outputs": [],
   "source": [
    "pd.concat([tmp_featured_tweets, tmp_golden_labels], axis = 1).to_csv('tweet_sentiment.csv')"
   ]
  },
  {
   "cell_type": "markdown",
   "metadata": {},
   "source": [
    "# Part 4\n",
    "**The SVM model**"
   ]
  },
  {
   "cell_type": "code",
   "execution_count": 23,
   "metadata": {},
   "outputs": [],
   "source": [
    "#Initializing a SVM model \n",
    "svm = LinearSVC()"
   ]
  },
  {
   "cell_type": "code",
   "execution_count": 24,
   "metadata": {},
   "outputs": [
    {
     "data": {
      "text/plain": [
       "LinearSVC(C=1.0, class_weight=None, dual=True, fit_intercept=True,\n",
       "     intercept_scaling=1, loss='squared_hinge', max_iter=1000,\n",
       "     multi_class='ovr', penalty='l2', random_state=None, tol=0.0001,\n",
       "     verbose=0)"
      ]
     },
     "execution_count": 24,
     "metadata": {},
     "output_type": "execute_result"
    }
   ],
   "source": [
    "#Fitting the model to the training data\n",
    "\n",
    "svm.fit(X_train, y_train)"
   ]
  },
  {
   "cell_type": "code",
   "execution_count": 25,
   "metadata": {},
   "outputs": [
    {
     "data": {
      "text/plain": [
       "0.9916317991631799"
      ]
     },
     "execution_count": 25,
     "metadata": {},
     "output_type": "execute_result"
    }
   ],
   "source": [
    "#Extracting the accuracy score from the training data\n",
    "\n",
    "svm.score(X_train, y_train)"
   ]
  },
  {
   "cell_type": "code",
   "execution_count": 26,
   "metadata": {},
   "outputs": [
    {
     "data": {
      "text/plain": [
       "0.5145631067961165"
      ]
     },
     "execution_count": 26,
     "metadata": {},
     "output_type": "execute_result"
    }
   ],
   "source": [
    "#Extracting the accuracy score from the training data\n",
    "\n",
    "svm.score(X_test, y_test)"
   ]
  },
  {
   "cell_type": "code",
   "execution_count": 27,
   "metadata": {},
   "outputs": [
    {
     "name": "stdout",
     "output_type": "stream",
     "text": [
      "             precision    recall  f1-score   support\n",
      "\n",
      "        1.0       0.63      0.68      0.66        59\n",
      "        2.0       0.22      0.15      0.18        13\n",
      "        3.0       0.35      0.35      0.35        31\n",
      "\n",
      "avg / total       0.50      0.51      0.51       103\n",
      "\n"
     ]
    }
   ],
   "source": [
    "actual = y_test\n",
    "predicted = svm.predict(X_test)\n",
    "print(classification_report(actual, predicted) )"
   ]
  },
  {
   "cell_type": "markdown",
   "metadata": {},
   "source": [
    "### Other SVM models\n",
    "***Linear SVM use one vs rest where as the others use One vs One***"
   ]
  },
  {
   "cell_type": "code",
   "execution_count": 28,
   "metadata": {},
   "outputs": [
    {
     "data": {
      "text/plain": [
       "0.4854368932038835"
      ]
     },
     "execution_count": 28,
     "metadata": {},
     "output_type": "execute_result"
    }
   ],
   "source": [
    "clff = SVC(kernel='linear') #multi_class='crammer_singer'\n",
    "clff.fit(X_train, y_train)\n",
    "clff.score(X_test, y_test)"
   ]
  },
  {
   "cell_type": "code",
   "execution_count": 29,
   "metadata": {},
   "outputs": [
    {
     "data": {
      "text/plain": [
       "0.5728155339805825"
      ]
     },
     "execution_count": 29,
     "metadata": {},
     "output_type": "execute_result"
    }
   ],
   "source": [
    "clfr = SVC(kernel='poly')\n",
    "clfr.fit(X_train, y_train)\n",
    "clfr.score(X_test, y_test)"
   ]
  },
  {
   "cell_type": "code",
   "execution_count": 30,
   "metadata": {},
   "outputs": [
    {
     "data": {
      "text/plain": [
       "0.5728155339805825"
      ]
     },
     "execution_count": 30,
     "metadata": {},
     "output_type": "execute_result"
    }
   ],
   "source": [
    "clff = SVC(kernel='rbf')\n",
    "clff.fit(X_train, y_train)\n",
    "clff.score(X_test, y_test)"
   ]
  },
  {
   "cell_type": "markdown",
   "metadata": {},
   "source": [
    "**Graphical hyper-parameter optimization**"
   ]
  },
  {
   "cell_type": "code",
   "execution_count": 31,
   "metadata": {},
   "outputs": [
    {
     "data": {
      "image/png": "[encoded data removed]",
      "text/plain": [
       "<Figure size 432x288 with 1 Axes>"
      ]
     },
     "metadata": {},
     "output_type": "display_data"
    }
   ],
   "source": [
    "training_scores = []\n",
    "testing_scores = []\n",
    "\n",
    "param_list = [0.00001, 0.0001, 0.001, 0.01, 0.1, 10, 100, 1000]\n",
    "\n",
    "# Evaluate the training and test classification errors for each value of the parameter\n",
    "\n",
    "for param in param_list:\n",
    "    \n",
    "    # Create SVM object and fit\n",
    "    \n",
    "    svm = LinearSVC(C = param, random_state = 42)\n",
    "    #svm = SVC(kernel='rbf', C = param, random_state = 42)\n",
    "    svm.fit(X_train, y_train)\n",
    "    \n",
    "    # Evaluate the accuracy scores and append to lists\n",
    "    \n",
    "    training_scores.append(svm.score(X_train, y_train) )\n",
    "    testing_scores.append(svm.score(X_test, y_test) )\n",
    "    \n",
    "# Plot results\n",
    "\n",
    "plt.semilogx(param_list, training_scores, param_list, testing_scores)\n",
    "plt.legend((\"train\", \"test\"))\n",
    "plt.ylabel('Accuracy scores')\n",
    "plt.xlabel('C (Inverse regularization strength)')\n",
    "plt.show()"
   ]
  },
  {
   "cell_type": "markdown",
   "metadata": {},
   "source": [
    "**Hyper-parameter optimization using GridSearchCV**"
   ]
  },
  {
   "cell_type": "code",
   "execution_count": 32,
   "metadata": {},
   "outputs": [
    {
     "name": "stdout",
     "output_type": "stream",
     "text": [
      "The best value of the inverse regularization strength is: {'C': 0.01}\n",
      "The best score of the inverse regularization strength is: 0.5899581589958159\n"
     ]
    }
   ],
   "source": [
    "#Building the model \n",
    "\n",
    "svm = LinearSVC(random_state = 50)\n",
    "\n",
    "#Using GridSearchCV to search for the best parameter\n",
    "\n",
    "grid = GridSearchCV(svm, {'C':[0.00001, 0.0001, 0.001, 0.01, 0.1, 10, 100, 1000]}, cv=10)\n",
    "grid.fit(X_train, y_train)\n",
    "\n",
    "# Print out the best parameter\n",
    "\n",
    "print(\"The best value of the inverse regularization strength is:\", grid.best_params_)\n",
    "print(\"The best score of the inverse regularization strength is:\", grid.best_score_)"
   ]
  },
  {
   "cell_type": "markdown",
   "metadata": {},
   "source": [
    "# Part 5\n",
    "**KNN**"
   ]
  },
  {
   "cell_type": "code",
   "execution_count": 33,
   "metadata": {},
   "outputs": [],
   "source": [
    "knn_classifier = KNeighborsClassifier(n_neighbors=1)"
   ]
  },
  {
   "cell_type": "code",
   "execution_count": 34,
   "metadata": {},
   "outputs": [
    {
     "data": {
      "text/plain": [
       "KNeighborsClassifier(algorithm='auto', leaf_size=30, metric='minkowski',\n",
       "           metric_params=None, n_jobs=1, n_neighbors=1, p=2,\n",
       "           weights='uniform')"
      ]
     },
     "execution_count": 34,
     "metadata": {},
     "output_type": "execute_result"
    }
   ],
   "source": [
    "knn_classifier.fit(X_train, y_train)"
   ]
  },
  {
   "cell_type": "code",
   "execution_count": 35,
   "metadata": {},
   "outputs": [
    {
     "data": {
      "text/plain": [
       "0.4077669902912621"
      ]
     },
     "execution_count": 35,
     "metadata": {},
     "output_type": "execute_result"
    }
   ],
   "source": [
    "knn_classifier.score(X_test, y_test)"
   ]
  },
  {
   "cell_type": "code",
   "execution_count": 36,
   "metadata": {},
   "outputs": [
    {
     "name": "stdout",
     "output_type": "stream",
     "text": [
      "             precision    recall  f1-score   support\n",
      "\n",
      "        1.0       0.68      0.36      0.47        59\n",
      "        2.0       0.20      0.08      0.11        13\n",
      "        3.0       0.30      0.65      0.41        31\n",
      "\n",
      "avg / total       0.50      0.41      0.40       103\n",
      "\n"
     ]
    }
   ],
   "source": [
    "actual = y_test\n",
    "predicted = knn_classifier.predict(X_test)\n",
    "print(classification_report(actual, predicted) )"
   ]
  },
  {
   "cell_type": "markdown",
   "metadata": {},
   "source": [
    "# Part 6\n",
    "**Naive Bayes model** "
   ]
  },
  {
   "cell_type": "code",
   "execution_count": 37,
   "metadata": {},
   "outputs": [
    {
     "data": {
      "text/plain": [
       "0.44660194174757284"
      ]
     },
     "execution_count": 37,
     "metadata": {},
     "output_type": "execute_result"
    }
   ],
   "source": [
    "#Initializing an NB classifier\n",
    "\n",
    "nb_classifier = GaussianNB()\n",
    "\n",
    "#Fitting the classifier into the training data\n",
    "\n",
    "nb_classifier.fit(X_train, y_train)\n",
    "\n",
    "#Extracting the accuracy score from the base classifier\n",
    "\n",
    "nb_classifier.score(X_test, y_test)"
   ]
  },
  {
   "cell_type": "code",
   "execution_count": 38,
   "metadata": {},
   "outputs": [
    {
     "name": "stdout",
     "output_type": "stream",
     "text": [
      "             precision    recall  f1-score   support\n",
      "\n",
      "        1.0       0.74      0.42      0.54        59\n",
      "        2.0       0.23      0.46      0.31        13\n",
      "        3.0       0.35      0.48      0.41        31\n",
      "\n",
      "avg / total       0.56      0.45      0.47       103\n",
      "\n"
     ]
    }
   ],
   "source": [
    "actual = y_test\n",
    "predicted = nb_classifier.predict(X_test)\n",
    "print(classification_report(actual, predicted) )"
   ]
  },
  {
   "cell_type": "markdown",
   "metadata": {},
   "source": [
    "**Multinomial NB **"
   ]
  },
  {
   "cell_type": "code",
   "execution_count": 39,
   "metadata": {},
   "outputs": [
    {
     "data": {
      "text/plain": [
       "0.6407766990291263"
      ]
     },
     "execution_count": 39,
     "metadata": {},
     "output_type": "execute_result"
    }
   ],
   "source": [
    "X_trainNB = X_trainO.apply(lambda l: \" \".join(l))\n",
    "X_testNB  = X_testO.apply(lambda l: \" \".join(l))\n",
    "\n",
    "vect = CountVectorizer().fit(X_trainNB)\n",
    "X_train_vectorized = vect.transform(X_trainNB)\n",
    "\n",
    "clfrNB = MultinomialNB(alpha = 0.1)\n",
    "clfrNB.fit(X_train_vectorized, y_train)\n",
    "\n",
    "clfrNB.score(vect.transform(X_testNB), y_test)"
   ]
  },
  {
   "cell_type": "code",
   "execution_count": 40,
   "metadata": {},
   "outputs": [
    {
     "name": "stdout",
     "output_type": "stream",
     "text": [
      "             precision    recall  f1-score   support\n",
      "\n",
      "        1.0       0.68      0.85      0.75        59\n",
      "        2.0       0.50      0.31      0.38        13\n",
      "        3.0       0.57      0.39      0.46        31\n",
      "\n",
      "avg / total       0.62      0.64      0.62       103\n",
      "\n"
     ]
    }
   ],
   "source": [
    "actual = y_test\n",
    "predicted = clfrNB.predict(vect.transform(X_testNB))\n",
    "print(classification_report(actual, predicted) )"
   ]
  },
  {
   "cell_type": "code",
   "execution_count": 41,
   "metadata": {},
   "outputs": [
    {
     "name": "stdout",
     "output_type": "stream",
     "text": [
      "Text                                                                                                      Prediction    Actual\n",
      "0 idaddr pleas make vaccin for sanghi viru of abus nehru ji khandan amp rahulgandhi ji phobia vapam dr idaddr fight corona viru do not fight opposit parti get vaccin for gandhi phobia amp do not get well soon httpaddr\n",
      "                                                                                                               1.0       3.0\n",
      "1 idaddr staci i hear what you are say and I am not realli complain but death is death and sinc flu come from contact mostli would not you agre that we could elimin some of the death caus by our casual approach just say that flu is a big killer even with a vaccin\n",
      "                                                                                                               1.0       3.0\n",
      "2 if you are healthi and you catch it chanc are you shall you will come out okay if you are not chanc are you won t still both requir hospit vaccin onli way out coronaviru\n",
      "                                                                                                               1.0       1.0\n",
      "3 idaddr idaddr idaddr number or should have the option of whether they want to wash hand or not thi novel viru ha no vaccin for now the onli method of protect is spacial physic distanc you cannot buy that with money but you still have to pay util bill and food cloth cost\n",
      "                                                                                                               1.0       1.0\n",
      "4 right now the onli time i would use the word effici effect and idaddr in the same sentenc is if the word not wa bold idaddr vaccin fauci\n",
      "                                                                                                               3.0       3.0\n",
      "5 all joke asid major of peopl are not am not take thi serious i see so mani peopl ignor social distanc use ppe incorrectli stay at home etc i do not see ani of thi end anytim soon unless a vaccin or treatment is develop\n",
      "                                                                                                               1.0       1.0\n",
      "6 but also the us we need more ventil mask glove access to test a vaccin mcdonald s you can now get a big mac in three differ size hamburg hamburg hamburg\n",
      "                                                                                                               1.0       1.0\n",
      "7 scientist coronaviru is not mutat quickli and might respond to a singl vaccin httpaddr\n",
      "                                                                                                               1.0       1.0\n",
      "8 i think I have seen thi movi thi is about the time when they rush out a vaccin without test and turn us all into zombi\n",
      "                                                                                                               2.0       2.0\n",
      "9 idaddr idaddr idaddr i heard the vaccin caus shingl later on in life so I am not sure\n",
      "                                                                                                               3.0       2.0\n",
      "10 idaddr idaddr more peopl have covid number than we thought and more will get it unless we take measur to stop the spread we need treatment and a vaccin\n",
      "                                                                                                               1.0       1.0\n",
      "11 lore lab show that tissu dissemin is nanoparticl vaccin deliveri rout depend but innat and adapt immun respons develop compar httpaddr\n",
      "                                                                                                               1.0       3.0\n",
      "12 idaddr idaddr well if enough herd immun u will not need a vaccin becaus the viru will go extinct like smallpox mytwo_centsworth\n",
      "                                                                                                               1.0       3.0\n",
      "13 idaddr idaddr idaddr idaddr idaddr idaddr outdat number supersed in number number problem with peopl who do not understand scientif research next time tri start with newest research first most recent link hnumbernnumb number to number variant in vaccin research possibl accid releas reject by who for obviou reason\n",
      "                                                                                                               1.0       2.0\n",
      "14 ｂｃｇ _ can a centuri old tb vaccin steel the immun system against the new coronaviru httpaddr\n",
      "                                                                                                               3.0       1.0\n",
      "15 idaddr that a great fuck idea but your gonna have to set it up to be next year in the summer possibl to be safe they should have a vaccin by then creat good anticip too\n",
      "                                                                                                               1.0       1.0\n",
      "16 idaddr cannot click the love button on thi but i feel your pain obvious bolso is in leagu with the giant cheetoh tell american the economi is more imp than their live amp there ha there is a vaccin to save them amp bojo the clown say go outsid one day amp stay at home the next face_with_symbols_on_mouth\n",
      "                                                                                                               1.0       3.0\n",
      "17 idaddr unless the expect is to shut down until the vaccin cure is wide avail which could be over a year then i do not see how thi is not inevit\n",
      "                                                                                                               1.0       1.0\n",
      "18 woke twitter everi time someon talk about a covid number test or vaccin and they start talk bout a microchip httpaddr\n",
      "                                                                                                               2.0       3.0\n",
      "19 can we all just invent a sleep medicin for number day thi vaccin thing is take for ever thinking_fac\n",
      "                                                                                                               1.0       1.0\n",
      "20 the coronaviru is not mutat quickli suggest a vaccin would offer last protect httpaddr\n",
      "                                                                                                               1.0       1.0\n",
      "21 number separ the will elderli and sickli as best as possibl number let the abov mention wait it out by play bingo till a vaccin is readi number rest get back to work asap httpaddr\n",
      "                                                                                                               1.0       1.0\n",
      "22 the world probabl is not not go back to what it use to be thing are gonna chang heavili forget about your summer plan if no vaccin is creat for thi viru\n",
      "                                                                                                               2.0       1.0\n",
      "23 sinc there is no vaccin yet for covid number infect we have to social engin our behavior to act like a social vaccin thi simpli mean two thing number not get infect and number not infect other so pleas listen\n",
      "                                                                                                               1.0       1.0\n",
      "24 idaddr trump peopl are vaccin for the flu not sure if your awar of thi but thi covid number ha no vaccin yet worri about save live rather then your friend money you have alreadi lost our it ha it is just you amp your rich friend your tri to protect\n",
      "                                                                                                               1.0       1.0\n",
      "25 there ha been sever conspiraci theori about elit buy up nz properti set up hoard bunker etc but you gotta wonder with thi stori and bill gate do all sort of vaccin wink wink research just wtf is realli go on httpaddr\n",
      "                                                                                                               2.0       2.0\n",
      "26 idaddr make sens just like the flu coronaviru mutat so I am essenc even a vaccin could be useless\n",
      "                                                                                                               1.0       2.0\n",
      "27 idaddr idaddr idaddr they do not give a shit about their own peopl wait they will be first with a vaccin becaus they creat the viru then they will be the hero of the world but if you care one bit about america you will never forget where it came from\n",
      "                                                                                                               1.0       3.0\n",
      "28 idaddr idaddr idaddr so that ha that is whi we are skip step in the vaccin process ummmm someon s lunaci is show and it ha it is not mine lol face_with_tears_of_joy typicalmagasheep ignorethequest amp beangri\n",
      "                                                                                                               1.0       3.0\n",
      "29 idaddr idaddr idaddr sorrow amp demong want the profit from their vaccin viru creation number\n",
      "                                                                                                               3.0       2.0\n",
      "30 in thi hard time pleas let us all remeb the anti vaxxer that will make it imposs for us to ever get out of quarantin even if a vaccin is found\n",
      "                                                                                                               1.0       1.0\n",
      "31 idaddr dr fauci claim that the auto death analog is a fals equival automobil design is improv everi year to help protect human live but what progress ha dr fauci made for a coronaviru vaccin sinc the number hnumbernnumb swine flu pandem that kill over number american\n",
      "                                                                                                               1.0       2.0\n",
      "32 idaddr forget that just tell him to send the vaccin that they alreadi have for it\n",
      "                                                                                                               1.0       2.0\n",
      "33 scientist say the coronaviru is not mutat quickli and might respond to a singl vaccin msnnow httpaddr\n",
      "                                                                                                               1.0       1.0\n",
      "34 idaddr idaddr idaddr idaddr i wa base my info on the research i did it seem that there is a vaccin but onli for a specif strain of the hantaviru not all so it ha it is fals to claim thi specif strain of the hantaviru ha a vaccin when you do not know for sure httpaddr\n",
      "                                                                                                               1.0       1.0\n",
      "35 ngeee grabe ang pagka racist ane tao oy face_with_hand_over_mouth u stop spread fake info hantaviru wa way discov age ago and a vaccin for thi viru is alreadi avail and the transmiss in human to human is rare httpaddr\n",
      "                                                                                                               3.0       3.0\n",
      "36 idaddr tell that to bill gate and hi depopul scheme and hi vaccin\n",
      "                                                                                                               2.0       2.0\n",
      "37 idaddr idaddr our govern s advic is to stay at home as much as possibl i have been at home for two month sinc januari number onli go out a few time to buy food but we do not know when it will end it depend on the last countri to control the viru or until a vaccin is avail\n",
      "                                                                                                               1.0       1.0\n",
      "38 a coronaviru vaccin could be the first that outwit natur httpaddr via idaddr\n",
      "                                                                                                               3.0       1.0\n",
      "39 idaddr we had a vaccin to it number month after it start somehow\n",
      "                                                                                                               1.0       2.0\n",
      "40 everyon is go to get thi viru all the lock down is do is slow it spread you and i are go to get it at some stage but can be be infect free befor a vaccin is found well if you keep number meter apart and wash hand\n",
      "                                                                                                               1.0       1.0\n",
      "41 idaddr i have a shot for season flu key word shot vaccin\n",
      "                                                                                                               1.0       1.0\n",
      "42 idaddr idaddr idaddr idaddr idaddr idaddr idaddr idaddr idaddr idaddr idaddr idaddr idaddr idaddr idaddr idaddr idaddr idaddr idaddr idaddr quaternari weapon system genocid by covid number numberg chemtrail amp vaccin how who amp whi httpaddr covid number bioweapon numberg energi weapon chemtrail chemic weapon amp flu vaccin hybrid weapon integr in quaternari weapon system to depopul lockdown planet earth\n",
      "                                                                                                               3.0       2.0\n",
      "43 idaddr bs obama took number month to declar hnumbernnumb a nation emerg and we had vaccin then number number us die\n",
      "                                                                                                               1.0       3.0\n",
      "44 scientist coronaviru is not mutat quickli and might respond to a singl vaccin httpaddr\n",
      "                                                                                                               1.0       1.0\n",
      "45 i wish him a speedi recoveri peopl also have to rememb that the annual flu is deadli as well and ha infect more peopl despit a vaccin be avail httpaddr\n",
      "                                                                                                               1.0       2.0\n",
      "46 me corona for not let me do my exam for not let me graduat in peac for not let me have prom for not let me blaze it on my birthday etc etc i hope a cure or vaccin is develop soon so u can stop take and ruin live httpaddr\n",
      "                                                                                                               1.0       1.0\n",
      "47 number number month until a vaccin i could stay in the yard until then it ha it is doabl mate i ll be live off the land by then send man seed pleas\n",
      "                                                                                                               1.0       1.0\n",
      "48 idaddr still wait for my vaccin get desper where do i sign up lol\n",
      "                                                                                                               1.0       1.0\n",
      "49 idaddr the time will also allow build up of ventil in acut care set step us closer to vaccin thi agent base model converg with the ode base seir model publish in lancet main point is that current polici set woefulli inadequ httpaddr\n",
      "                                                                                                               2.0       1.0\n",
      "50 idaddr pixiebot ha a vaccin but will not share it due to drama in the sim it ha it is like realiti tv but with covid\n",
      "                                                                                                               3.0       3.0\n",
      "51 hey dr fauci ani chanc of develop a vaccin for td stupid no not that fish tank cleaner someth that would cure them\n",
      "                                                                                                               3.0       3.0\n",
      "52 idaddr idaddr idaddr are you familiar with mike s work he ha he is among the most product legisl in hi class and he ha ton of bipartisan legisl it sound like you have been listen to some peopl of ill reput brian is pretti ambival on the vaccin subject which make him unqualifi\n",
      "                                                                                                               3.0       3.0\n",
      "53 idaddr yeah it ha it is the evangel so let us come up with someth more interest the bunni bring the vaccin mmm not right we kill all the bunni to make the vaccin mmm not right the same way that we pretend there ha there is an easter bunni thi ll work oh yeah that fli\n",
      "                                                                                                               1.0       3.0\n",
      "54 just my vaccin infectioussongsorband idaddr\n",
      "                                                                                                               3.0       3.0\n",
      "55 idaddr whi it turn out that number number of the peopl over the age of number at some point in their youth were expos to a similar hnumbernnumb viru therefor they had an immun to the viru from contract it earlier in their life i believ a veri similar concept to vaccin program today number\n",
      "                                                                                                               1.0       1.0\n",
      "56 idaddr idaddr we get differ cold not usual the same one covid doe produc antibodi we do not know how long they last but we can produc vaccin\n",
      "                                                                                                               1.0       1.0\n",
      "57 make that vaccin now number number month is still too f cking long face_with_symbols_on_mouth face_with_symbols_on_mouth face_with_symbols_on_mouth face_with_symbols_on_mouth face_with_symbols_on_mouth face_with_symbols_on_mouth face_with_symbols_on_mouth face_with_symbols_on_mouth face_with_symbols_on_mouth face_with_symbols_on_mouth last coronaviru vaccin is more like sinc the viru is mutat slowli scientist say httpaddr\n",
      "                                                                                                               1.0       1.0\n",
      "58 idaddr idaddr you are a life savior i cannot go into pub and custom anymor without worri that someon will infect me the peopl of krunker will aid you in your research suppli you with the kr and item for thi vaccin cure\n",
      "                                                                                                               1.0       1.0\n",
      "59 we are collabor with global expert to facilit the develop of a covidnumb vaccin httpaddr\n",
      "                                                                                                               1.0       1.0\n",
      "60 idaddr and ny need number number ventil in number week fema offer number so yeah not easter i may not come out till next year or vaccin\n",
      "                                                                                                               1.0       1.0\n",
      "61 idaddr idaddr idaddr idaddr idaddr idaddr idaddr idaddr idaddr idaddr idaddr idaddr idaddr idaddr idaddr idaddr idaddr idaddr idaddr idaddr idaddr idaddr idaddr idaddr idaddr idaddr idaddr idaddr idaddr idaddr idaddr idaddr idaddr idaddr idaddr idaddr idaddr idaddr idaddr idaddr idaddr idaddr idaddr idaddr idaddr idaddr idaddr idaddr idaddr idaddr there are not two side to thi discuss that ha that is what the funder of denial wish peopl to believ there ha there is the scientif view amp then there are folk obscur the scienc like for tobacco vaccin amp evolut refer httpaddr httpaddr\n",
      "                                                                                                               1.0       1.0\n",
      "62 great thought by idaddr on futur vaccin efficaci and herd immun to covidnumb coronaviru httpaddr\n",
      "                                                                                                               3.0       1.0\n",
      "63 hey are you the coronaviru vaccin becaus the whole world is chase you coronaviruspickuplin\n",
      "                                                                                                               3.0       1.0\n",
      "64 idaddr actual there is number on human one time payout for death due to vaccin accord to the vaccin court is dollarnumberk cap\n",
      "                                                                                                               3.0       3.0\n",
      "65 idaddr i got teari in the supermarket the other day too look as long as we do our best we cannot do ani more than that thi will pass i know it will leav it mark but at some point they are go to figur out a vaccin amp then we will get it and that will be it\n",
      "                                                                                                               1.0       1.0\n",
      "66 idaddr whi doe not he spend hi number billion do someth worth do like help out american who cannot work right now or fund studi for a cure vaccin oh wait i know he ha he is anoth hate monger liber democratshateamerica chinaliedandpeopledi\n",
      "                                                                                                               1.0       1.0\n",
      "67 oakislandcurs time for curs of verbos island dummi is there a vaccin\n",
      "                                                                                                               1.0       3.0\n",
      "68 idaddr idaddr idaddr idaddr idaddr idaddr idaddr idaddr idaddr idaddr idaddr idaddr idaddr idaddr idaddr idaddr idaddr idaddr idaddr idaddr idaddr idaddr idaddr idaddr idaddr idaddr idaddr idaddr idaddr idaddr idaddr idaddr idaddr idaddr idaddr idaddr the onli justic is there is definit no vaccin at the moment no matter if you are rich or poor the rich can onli shield themselv better and longer when trump open easter again all clinic will be overcrowd then onli the fittest surviv there will be troubl\n",
      "                                                                                                               1.0       3.0\n",
      "69 idaddr idaddr idaddr god pleas save us god give scientist abil to make a vaccin omg no that ha that is poison I shall I will wait for god to save us httpaddr\n",
      "                                                                                                               1.0       1.0\n",
      "70 idaddr all of these hot take about the flu never consid the fact that like a teeni amount of peopl contract it rel bc of vaccin and herd immun\n",
      "                                                                                                               1.0       1.0\n",
      "71 idaddr idaddr idaddr idaddr idaddr we do not lock down the entir world for the flu we also have a vaccin for the flu we are still project to have way more death from corona versu the flu and with the mindset of get back to work if you are young we are go to make the number of death exponenti more\n",
      "                                                                                                               1.0       1.0\n",
      "72 idaddr it is becaus we do not have a vaccin\n",
      "                                                                                                               1.0       1.0\n",
      "73 a last coronaviru vaccin is more like sinc the viru is mutat slowli scientist say httpaddr\n",
      "                                                                                                               1.0       1.0\n",
      "74 idaddr especi poor rate of flu vaccin effect in recent year in senior popul\n",
      "                                                                                                               1.0       3.0\n",
      "75 idaddr great work fight china for the right to use the vaccin\n",
      "                                                                                                               1.0       3.0\n",
      "76 idaddr idaddr idaddr idaddr idaddr number shut down I shall I will go work for the hospit as an orderli or an ambul driver if they shall they will have me if not I shall I will volunt to help nih or volunt for the corona viru vaccin or find some way to help my commun america I shall I will go wherev I am need my gener need to\n",
      "                                                                                                               1.0       1.0\n",
      "77 idaddr test kit onli not vaccin\n",
      "                                                                                                               1.0       3.0\n",
      "78 idaddr real epidemiologist are say shut thing down until there is a vaccin that would be number month\n",
      "                                                                                                               1.0       1.0\n",
      "79 ride the vaccin infectioussongsorband httpaddr\n",
      "                                                                                                               3.0       3.0\n",
      "80 mirror onlin coronaviru top way to protect yourself until vaccin is develop httpaddr via idaddr\n",
      "                                                                                                               1.0       1.0\n",
      "81 idaddr so at the age of number you have decid peopl number and older are total worth risk death do you realiz you could be number befor there ha there is a vaccin I am number and feel number I am notdyingforwallstreet ya ll can fuggetaboutit\n",
      "                                                                                                               2.0       1.0\n",
      "82 me hit the test lab to find thi vaccin becaus I am tri to have a summer thi year httpaddr\n",
      "                                                                                                               1.0       1.0\n",
      "83 idaddr idaddr idaddr should be thank he is still not work for the clinton there is no vaccin for suicid\n",
      "                                                                                                               1.0       3.0\n",
      "84 can a centuri old tb vaccin steel the immun system against the new coronaviru scienc aaa httpaddr\n",
      "                                                                                                               3.0       1.0\n",
      "85 idaddr idaddr be an evangel should bar one from be in public offic it ha it is prone to make irrat decis god made a mistak creat the viru befor he creat the vaccin\n",
      "                                                                                                               1.0       1.0\n",
      "86 idaddr condit number mass test number s of thousand per day per state through put ideal the s korean number min test number test show the viru in declin number number effect therapeut or a number effect vaccin exist and is approv for usag\n",
      "                                                                                                               1.0       3.0\n",
      "87 idaddr idaddr idaddr your stat are lie the swine flu infect hundr of thousand but thank to the vaccin for it ad into that year season flu vaccin onli number number for death over two season veri low for flu in the last ten year\n",
      "                                                                                                               1.0       1.0\n",
      "88 egypt scientist and research are test a vaccin against tuberculosi to treat the new coronaviru httpaddr httpaddr\n",
      "                                                                                                               1.0       1.0\n",
      "89 interest to see if there ha there is ani correl like mani japanes i had a bcg in my childhood and still have some pustul visibl in my arm and got tb test posit when appli for the green card httpaddr\n",
      "                                                                                                               3.0       3.0\n",
      "90 idaddr idaddr we will wait and watch till the vaccin safe test\n",
      "                                                                                                               1.0       1.0\n",
      "91 idaddr idaddr the flu chang all the time we have a system that attempt to get the best vaccin for it everi season the same will probabl need to be done for thi or whatev the next thing is\n",
      "                                                                                                               1.0       1.0\n",
      "92 as you read the word the voic of my spirit will come clearer and more often so that i can direct your step clearer thi is how i will counteract thi poison that the enemi of your soul ha unleash thi is my antidot and vaccin of the spirit number you inspir by jesu\n",
      "                                                                                                               1.0       3.0\n"
     ]
    },
    {
     "name": "stdout",
     "output_type": "stream",
     "text": [
      "93 idaddr a vaccin offer last protect that will be the day face_with_rolling_ey\n",
      "                                                                                                               1.0       3.0\n",
      "94 idaddr i just got introduc to you and just want to say happi birthday in number day i as well will celebr number you know your do the right thing and i applaud that with all the suffer go on worldwid i wish you good health for thi year and mani mani more a vaccin gift number\n",
      "                                                                                                               1.0       1.0\n",
      "95 a last coronaviru vaccin is more like sinc the viru is mutat slowli scientist say httpaddr\n",
      "                                                                                                               1.0       1.0\n",
      "96 idaddr if a viru from bill gate make you sick doe a vaccin from bill gate actual cure\n",
      "                                                                                                               2.0       2.0\n",
      "97 idaddr doc without vaccin it is veri danger to adopt herd immun just balik malaysia doc\n",
      "                                                                                                               3.0       1.0\n",
      "98 come on vaccin infectioussongsorband httpaddr\n",
      "                                                                                                               3.0       3.0\n",
      "99 almighti allah merci on us corona viru vaccin are mani month away health expert say\n",
      "                                                                                                               1.0       1.0\n",
      "100 these guy might want to talk to iceland who found number mutat with number cluster approach strain statu just say httpaddr\n",
      "                                                                                                               3.0       3.0\n",
      "101 social disdanc parti at numberpm est with tune by dj av jo rais money_bag money_bag and lift green_heart green_heart for idaddr detail on ig idaddr zoom number number number music at httpaddr jiggl around is proven despair vaccin\n",
      "                                                                                                               3.0       3.0\n",
      "102 idaddr actual wors than that they counterfeit the band they bring the viru home to their famili without the vaccin immun antibodi\n",
      "                                                                                                               1.0       1.0\n"
     ]
    }
   ],
   "source": [
    "print(\"Text\", \"\".ljust(100), \"Prediction\", \"\".ljust(2), \"Actual\")\n",
    "for i in range(len(X_testNB)):\n",
    "    print(i, X_testNB.iloc[i])\n",
    "    print(\"\".ljust(110), predicted[i], \"\".ljust(5), actual[i])"
   ]
  },
  {
   "cell_type": "markdown",
   "metadata": {},
   "source": [
    "# Part 7\n",
    "2 layer Neural Network with softmax activation\n",
    "+ https://colab.research.google.com/github/MubashirullahD/Tweets-Sentiment-Analysis/blob/master/Sentiment_Analysis_of_Tweets_using_NN.ipynb"
   ]
  },
  {
   "cell_type": "markdown",
   "metadata": {},
   "source": [
    "# Other ideas\n",
    "+ Naïve Bayes Classifier with Sentiment Lexicon: http://www.iaeng.org/IJCS/issues_v46/issue_2/IJCS_46_2_01.pdf\n",
    "+ Document Retrivial approach. Treat each tweet group as a document i.e. document of positive tweets. Use tf-idf vector model and calculate centroid of all three documents and new tweet and evalute their cosine similarity."
   ]
  },
  {
   "cell_type": "markdown",
   "metadata": {},
   "source": [
    "### References\n",
    "Pandas Excel: https://pythonspot.com/read-excel-with-pandas/\n",
    "\n",
    "Panda Summary: https://pandas.pydata.org/pandas-docs/stable/getting_started/10min.html\n",
    "\n",
    "Contractions: https://stackoverflow.com/questions/43018030/replace-apostrophe-short-words-in-python\n",
    "\n",
    "Naive Bayes Summary: https://towardsdatascience.com/algorithms-for-text-classification-part-1-naive-bayes-3ff1d116fdd8\n",
    "\n",
    "Other articles: \n",
    "* https://www.geeksforgeeks.org/multiclass-classification-using-scikit-learn/\n",
    "* https://www.geeksforgeeks.org/confusion-matrix-machine-learning/\n",
    "* https://scikit-learn.org/stable/modules/svm.html#svm-kernels"
   ]
  },
  {
   "cell_type": "code",
   "execution_count": null,
   "metadata": {},
   "outputs": [],
   "source": []
  }
 ],
 "metadata": {
  "kernelspec": {
   "display_name": "Python 3",
   "language": "python",
   "name": "python3"
  },
  "language_info": {
   "codemirror_mode": {
    "name": "ipython",
    "version": 3
   },
   "file_extension": ".py",
   "mimetype": "text/x-python",
   "name": "python",
   "nbconvert_exporter": "python",
   "pygments_lexer": "ipython3",
   "version": "3.6.5"
  }
 },
 "nbformat": 4,
 "nbformat_minor": 2
}
